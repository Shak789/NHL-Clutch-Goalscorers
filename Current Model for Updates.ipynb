{
 "cells": [
  {
   "cell_type": "code",
   "execution_count": 21,
   "id": "2c5e48c9-eae5-4593-91e7-a62c19b0e1fb",
   "metadata": {},
   "outputs": [],
   "source": [
    "# Warnings\n",
    "import warnings\n",
    "warnings.simplefilter(action='ignore', category=FutureWarning)\n",
    "\n",
    "# General imports\n",
    "import time\n",
    "import math\n",
    "import json\n",
    "import requests\n",
    "import functools as ft\n",
    "import scipy.stats as stats\n",
    "\n",
    "# Data manipulation and visualization\n",
    "import numpy as np\n",
    "import pandas as pd\n",
    "import matplotlib.pyplot as plt\n",
    "import seaborn as sns\n",
    "import statsmodels.api as sm\n",
    "\n",
    "# XGBoost and machine learning\n",
    "import xgboost as xgb\n",
    "from xgboost import XGBClassifier, plot_importance\n",
    "\n",
    "# Sklearn\n",
    "from sklearn.model_selection import train_test_split, StratifiedKFold, cross_validate, learning_curve\n",
    "from sklearn.metrics import accuracy_score, precision_score, recall_score, f1_score, mean_squared_error, mean_absolute_error, r2_score, median_absolute_error, PrecisionRecallDisplay, make_scorer\n",
    "from sklearn.linear_model import RidgeCV, LinearRegression\n",
    "from sklearn.preprocessing import StandardScaler\n",
    "from sklearn.utils.class_weight import compute_sample_weight\n",
    "from sklearn.decomposition import PCA\n",
    "\n",
    "# Hyperparameter tuning with Skopt\n",
    "from skopt import BayesSearchCV\n",
    "from skopt.space import Integer, Real, Categorical\n",
    "\n",
    "# Statsmodels\n",
    "from statsmodels.stats.outliers_influence import variance_inflation_factor\n",
    "\n",
    "#Saving Model\n",
    "import joblib"
   ]
  },
  {
   "cell_type": "code",
   "execution_count": 23,
   "id": "e8f501ef-eb81-461c-8965-b58f9ab864ad",
   "metadata": {},
   "outputs": [],
   "source": [
    "ridge_cv_log_loaded = joblib.load('ridge_cv_model.pkl')"
   ]
  },
  {
   "cell_type": "code",
   "execution_count": 25,
   "id": "587a89c6-60d7-45fc-a8e4-8382cd9668d8",
   "metadata": {},
   "outputs": [
    {
     "name": "stdout",
     "output_type": "stream",
     "text": [
      "Successfully fetched data for season 2024-2025\n",
      "     playerId      skaterFullName positionCode  gamesPlayed  goals  assists  \\\n",
      "0     8470600          Ryan Suter            D           27      1        5   \n",
      "1     8470613         Brent Burns            D           26      1        6   \n",
      "2     8470621         Corey Perry            R           26      4        3   \n",
      "3     8471214       Alex Ovechkin            L           18     15       10   \n",
      "4     8471215       Evgeni Malkin            C           27      6       18   \n",
      "..        ...                 ...          ...          ...    ...      ...   \n",
      "759   8484387      Matvei Michkov            R           24      9       13   \n",
      "760   8484779       Jett Luchanko            C            4      0        0   \n",
      "761   8484801   Macklin Celebrini            C           17      8        7   \n",
      "762   8484958     Maxim Tsyplakov            R           27      4       10   \n",
      "763   8485105  Nikita Prishchepov            C            9      0        0   \n",
      "\n",
      "     otGoals  gameWinningGoals  timeOnIcePerGame teamAbbrevs  \n",
      "0          0                 0         1373.3703         STL  \n",
      "1          0                 0         1288.4615         CAR  \n",
      "2          0                 1          703.1538         EDM  \n",
      "3          0                 3         1056.2222         WSH  \n",
      "4          0                 1         1132.6296         PIT  \n",
      "..       ...               ...               ...         ...  \n",
      "759        3                 3         1029.9583         PHI  \n",
      "760        0                 0          843.2500         PHI  \n",
      "761        1                 3         1174.9411         SJS  \n",
      "762        0                 0          986.2222         NYI  \n",
      "763        0                 0          380.5555         COL  \n",
      "\n",
      "[764 rows x 10 columns]\n"
     ]
    }
   ],
   "source": [
    "all_seasons = []\n",
    "\n",
    "for season in range(2024, 2025):\n",
    "    summary_url = f\"https://api.nhle.com/stats/rest/en/skater/summary?limit=-1&cayenneExp=seasonId={season}{season+1}%20and%20gameTypeId=2\"\n",
    "\n",
    "    try:\n",
    "        summary_resp = requests.get(summary_url)\n",
    "        summary_resp.raise_for_status() \n",
    "        summary_json =  summary_resp.json()\n",
    "\n",
    "        if summary_json['data']:\n",
    "            df_summary = pd.DataFrame(summary_json['data'])\n",
    "            all_seasons.append(df_summary)\n",
    "            df_summary['season'] = f\"{season}-{season + 1}\"\n",
    "            print(f\"Successfully fetched data for season {season}-{season+1}\")\n",
    "        else:\n",
    "            print(f\"No data returned for season {season}-{season + 1}\")\n",
    "        \n",
    "    except requests.exceptions.RequestException as e:\n",
    "        print(f\"Error fetching data for season {season}-{season + 1}: {e}\")\n",
    "\n",
    "if all_seasons:\n",
    "    nhl_api_df = pd.concat(all_seasons, ignore_index=True)\n",
    "    nhl_api_df = nhl_api_df.groupby('playerId').agg({\n",
    "            'playerId': 'first',\n",
    "            'skaterFullName': 'first',\n",
    "            'positionCode': 'first',\n",
    "            'gamesPlayed': 'sum',\n",
    "            'goals': 'sum',\n",
    "            'assists': 'sum',\n",
    "            'otGoals': 'sum',\n",
    "            'gameWinningGoals': 'sum',\n",
    "            'timeOnIcePerGame': 'mean',\n",
    "            'teamAbbrevs': 'last'\n",
    "        }).reset_index(drop = True)\n",
    "    \n",
    "print(nhl_api_df)"
   ]
  },
  {
   "cell_type": "code",
   "execution_count": 27,
   "id": "633da754-8507-4aa0-aa6e-0eed5453d0cd",
   "metadata": {},
   "outputs": [],
   "source": [
    "nhl_api_df = nhl_api_df.loc[(nhl_api_df['positionCode'] != 'D') & (nhl_api_df['gamesPlayed'] >= 15)]\n",
    "nhl_api_df = nhl_api_df.reset_index(drop = True)\n",
    "nhl_api_df = nhl_api_df.fillna(0)\n",
    "\n",
    "nhl_api_df.rename(columns = {'gameWinningGoals': 'game_winning_goals'}, inplace = True)\n",
    "nhl_api_df.rename(columns = {'otGoals': 'ot_goals'}, inplace = True)\n",
    "nhl_api_df.rename(columns = {'skaterFullName': 'Player'}, inplace = True)\n",
    "nhl_api_df.rename(columns={'timeOnIcePerGame': 'time_on_ice_per_game'}, inplace=True)\n",
    "nhl_api_df['regulation_game_winning'] = nhl_api_df['game_winning_goals'] - nhl_api_df['ot_goals']"
   ]
  },
  {
   "cell_type": "code",
   "execution_count": 29,
   "id": "dc73df46-8d1e-4288-9756-a26909ca409d",
   "metadata": {},
   "outputs": [],
   "source": [
    "nhl_api_df['teamAbbrevs'] = nhl_api_df['teamAbbrevs'].apply(lambda x: x.split(',')[0].strip() if ',' in x else x)"
   ]
  },
  {
   "cell_type": "code",
   "execution_count": 7,
   "id": "a24b06be-eeb7-45c2-863a-f11ea2a1e5f4",
   "metadata": {},
   "outputs": [],
   "source": [
    "def headshot(row):\n",
    "    headshot_link = 'https://assets.nhle.com/mugs/nhl/20232024/' + str(row['teamAbbrevs']) + '/' + str(row['playerId']) + '.png'\n",
    "    return headshot_link\n",
    "\n",
    "nhl_api_df['headshot'] = nhl_api_df.apply(headshot, axis=1)"
   ]
  },
  {
   "cell_type": "code",
   "execution_count": 8,
   "id": "4d7e39f4-8739-4808-9181-f675f512734e",
   "metadata": {},
   "outputs": [],
   "source": [
    "def logo(row):\n",
    "    logo_link = 'https://assets.nhle.com/logos/nhl/svg/' + str(row['teamAbbrevs']) + '_dark.svg'\n",
    "    return logo_link\n",
    "\n",
    "nhl_api_df['logo'] = nhl_api_df.apply(logo, axis=1)"
   ]
  },
  {
   "cell_type": "code",
   "execution_count": 9,
   "id": "1f122bd6-95c8-4cf0-897a-4c01920b12a4",
   "metadata": {},
   "outputs": [],
   "source": [
    "start_season = \"20242025\"\n",
    "end_season = \"20242025\"\n",
    "goals_up_one_url = f\"https://www.naturalstattrick.com/playerteams.php?fromseason={start_season}&thruseason={end_season}&stype=2&sit=all&score=u1&stdoi=std&rate=n&team=ALL&pos=F&loc=B&toi=0&gpfilt=none&fd=&td=&tgp=410&lines=single&draftteam=ALL\"\n",
    "goals_down_one_url = f\"https://www.naturalstattrick.com/playerteams.php?fromseason={start_season}&thruseason={end_season}&stype=2&sit=all&score=d1&stdoi=std&rate=n&team=ALL&pos=F&loc=B&toi=0&gpfilt=none&fd=&td=&tgp=410&lines=single&draftteam=ALL\"\n",
    "tied_url = f\"https://www.naturalstattrick.com/playerteams.php?fromseason={start_season}&thruseason={end_season}&stype=2&sit=all&score=tied&stdoi=std&rate=n&team=ALL&pos=F&loc=B&toi=0&gpfilt=none&fd=&td=&tgp=410&lines=single&draftteam=ALL\"\n",
    "total_url = f\"https://www.naturalstattrick.com/playerteams.php?fromseason={start_season}&thruseason={end_season}&stype=2&sit=all&score=all&stdoi=std&rate=n&team=ALL&pos=F&loc=B&toi=0&gpfilt=none&fd=&td=&tgp=410&lines=single&draftteam=ALL\""
   ]
  },
  {
   "cell_type": "code",
   "execution_count": 10,
   "id": "3e61fdde-ab56-459e-9d02-2804a5823d6a",
   "metadata": {},
   "outputs": [],
   "source": [
    "urls = {\n",
    "    \"goals_up_one\": (goals_up_one_url, 'goals_up_by_one'),\n",
    "    \"goals_down_one\": (goals_down_one_url, 'goals_down_by_one'),\n",
    "    \"tied\": (tied_url, 'goals_when_tied'),\n",
    "    \"total\": (total_url, 'total_goals'),\n",
    "}\n",
    "\n",
    "dataframes = {}\n",
    "\n",
    "for name, (url, new_column_name) in urls.items():\n",
    "    df = pd.read_html(url, header=0, index_col=0, na_values=[\"-\"])[0]\n",
    "    df.rename(columns={'Goals': new_column_name}, inplace=True)\n",
    "    dataframes[name] = df\n",
    "\n",
    "goals_up_one_df = dataframes[\"goals_up_one\"]\n",
    "goals_down_one_df = dataframes[\"goals_down_one\"]\n",
    "goals_tied_df = dataframes[\"tied\"]\n",
    "total_df = dataframes[\"total\"]"
   ]
  },
  {
   "cell_type": "code",
   "execution_count": 11,
   "id": "bd3959c8-d40d-4bb9-97cc-b21ed8b7073f",
   "metadata": {},
   "outputs": [],
   "source": [
    "goals_up_one_df = goals_up_one_df[['Player', 'GP', 'goals_up_by_one']]\n",
    "goals_down_one_df = goals_down_one_df[['Player', 'goals_down_by_one']]\n",
    "goals_tied_df = goals_tied_df[['Player', 'goals_when_tied']]\n",
    "total_df = total_df[['Player', 'total_goals', 'Shots', 'ixG', 'iFF', 'iSCF', 'iHDCF', 'Rebounds Created', 'iCF']]\n",
    "\n",
    "dfs_natural_stat = [goals_up_one_df, goals_down_one_df, goals_tied_df, total_df]\n",
    "\n",
    "merged_natural_stat = ft.reduce(lambda left, right: pd.merge(left, right, on='Player'), dfs_natural_stat)\n",
    "#merged_natural_stat = merged_natural_stat.loc[merged_natural_stat['GP'] >= 35]\n",
    "merged_natural_stat.rename(columns={'Shots': 'shots'}, inplace=True)\n",
    "merged_natural_stat.rename(columns={'Rebounds Created': 'rebounds_created'}, inplace=True)"
   ]
  },
  {
   "cell_type": "code",
   "execution_count": 12,
   "id": "cd619672-0c2f-4d1c-b5a5-f2bf8b30396e",
   "metadata": {},
   "outputs": [],
   "source": [
    "natural_stat_names = [\"Pat Maroon\", \"Alex Kerfoot\", \"Nicholas Paul\", \"Zach Sanford\", \"Alex Wennberg\", \"Mitchell Marner\", \"Zach Aston-Reese\",  \"Max Comtois\", \"Alexei Toropchenko\", \"Cameron Atkinson\", \"Alexander Nylander\", \"Jacob Lucchini\", ] \n",
    "nhl_names = [\"Patrick Maroon\", \"Alexander Kerfoot\", \"Nick Paul\", \"Zachary Sanford\", \"Alexander Wennberg\", \"Mitch Marner\", \"Zachary Aston-Reese\",  \"Maxime Comtois\", \"Alexey Toropchenko\", \"Cam Atkinson\", \"Alex Nylander\", \"Jake Lucchini\"]\n",
    "merged_natural_stat = merged_natural_stat.replace(natural_stat_names, nhl_names)"
   ]
  },
  {
   "cell_type": "code",
   "execution_count": 13,
   "id": "0ab270b8-a309-448c-b9f6-c57240514167",
   "metadata": {},
   "outputs": [],
   "source": [
    "merged_clutch_goals_prediction = nhl_api_df.merge(merged_natural_stat, on = 'Player', how = 'left')"
   ]
  },
  {
   "cell_type": "code",
   "execution_count": 14,
   "id": "a1f74add-23ae-4c3c-82aa-c357d9c80aae",
   "metadata": {},
   "outputs": [],
   "source": [
    "merged_clutch_goals_prediction.drop(columns = 'GP', axis = 1, inplace = True)"
   ]
  },
  {
   "cell_type": "code",
   "execution_count": 15,
   "id": "006499f5-05dc-41d2-9cc3-073ed03f05ac",
   "metadata": {},
   "outputs": [],
   "source": [
    "columns = ['ot_goals', 'regulation_game_winning', 'assists', 'goals_up_by_one', 'goals_down_by_one', 'goals_when_tied', 'shots', 'ixG', 'iFF', 'iSCF', 'iHDCF', 'iCF', 'rebounds_created']\n",
    "for column in columns:\n",
    "    per_game_string = f\"{column}_per_game\"\n",
    "    merged_clutch_goals_prediction[per_game_string] = merged_clutch_goals_prediction[column] / merged_clutch_goals_prediction['gamesPlayed']"
   ]
  },
  {
   "cell_type": "code",
   "execution_count": 16,
   "id": "519b4e95-b236-442a-ae16-aef7bbc651b5",
   "metadata": {},
   "outputs": [],
   "source": [
    "merged_clutch_goals_prediction['clutch_score'] = (\n",
    "    0.35 * merged_clutch_goals_prediction['goals_when_tied_per_game'] + \n",
    "    0.35 * merged_clutch_goals_prediction['goals_down_by_one_per_game'] + \n",
    "    0.10 * merged_clutch_goals_prediction['goals_up_by_one_per_game'] + \n",
    "    0.20 * merged_clutch_goals_prediction['ot_goals_per_game']\n",
    ")"
   ]
  },
  {
   "cell_type": "code",
   "execution_count": 17,
   "id": "087e7867-da25-4020-82db-3ef47e7bb8d3",
   "metadata": {},
   "outputs": [
    {
     "data": {
      "text/html": [
       "<div>\n",
       "<style scoped>\n",
       "    .dataframe tbody tr th:only-of-type {\n",
       "        vertical-align: middle;\n",
       "    }\n",
       "\n",
       "    .dataframe tbody tr th {\n",
       "        vertical-align: top;\n",
       "    }\n",
       "\n",
       "    .dataframe thead th {\n",
       "        text-align: right;\n",
       "    }\n",
       "</style>\n",
       "<table border=\"1\" class=\"dataframe\">\n",
       "  <thead>\n",
       "    <tr style=\"text-align: right;\">\n",
       "      <th></th>\n",
       "      <th>Player</th>\n",
       "      <th>clutch_score</th>\n",
       "      <th>clutch_score_rank</th>\n",
       "    </tr>\n",
       "  </thead>\n",
       "  <tbody>\n",
       "  </tbody>\n",
       "</table>\n",
       "</div>"
      ],
      "text/plain": [
       "Empty DataFrame\n",
       "Columns: [Player, clutch_score, clutch_score_rank]\n",
       "Index: []"
      ]
     },
     "execution_count": 17,
     "metadata": {},
     "output_type": "execute_result"
    }
   ],
   "source": [
    "merged_clutch_goals_prediction['clutch_score'] *= 100\n",
    "merged_clutch_goals_prediction['clutch_score_rank']  = merged_clutch_goals_prediction['clutch_score'].rank(ascending = False, method = 'min')\n",
    "merged_clutch_goals_prediction['clutch_score'] = merged_clutch_goals_prediction['clutch_score'].apply(lambda x: round(x, 2))\n",
    "merged_clutch_goals_prediction.sort_values('clutch_score_rank', inplace = True)\n",
    "merged_clutch_goals_prediction[['Player','clutch_score', 'clutch_score_rank']].head(20)"
   ]
  },
  {
   "cell_type": "code",
   "execution_count": 18,
   "id": "2d5e5a0a-29fb-4bde-af1d-fe756d849772",
   "metadata": {},
   "outputs": [
    {
     "name": "stdout",
     "output_type": "stream",
     "text": [
      "Rows with null values:\n",
      "Empty DataFrame\n",
      "Columns: [playerId, Player, positionCode, gamesPlayed, goals, assists, ot_goals, game_winning_goals, time_on_ice_per_game, teamAbbrevs, regulation_game_winning, headshot, logo, goals_up_by_one, goals_down_by_one, goals_when_tied, total_goals, shots, ixG, iFF, iSCF, iHDCF, rebounds_created, iCF, ot_goals_per_game, regulation_game_winning_per_game, assists_per_game, goals_up_by_one_per_game, goals_down_by_one_per_game, goals_when_tied_per_game, shots_per_game, ixG_per_game, iFF_per_game, iSCF_per_game, iHDCF_per_game, iCF_per_game, rebounds_created_per_game, clutch_score, clutch_score_rank]\n",
      "Index: []\n",
      "\n",
      "[0 rows x 39 columns]\n"
     ]
    }
   ],
   "source": [
    "merged_clutch_goals_prediction.fillna(0, inplace = True)\n",
    "null_rows = merged_clutch_goals_prediction[merged_clutch_goals_prediction.isnull().any(axis=1)]\n",
    "print(\"Rows with null values:\")\n",
    "print(null_rows)"
   ]
  },
  {
   "cell_type": "code",
   "execution_count": 19,
   "id": "56c27c65-1844-40e9-8b4a-6d7679ad8b95",
   "metadata": {},
   "outputs": [],
   "source": [
    "x_var = ['shots_per_game', 'ixG_per_game', 'iFF_per_game', 'iSCF_per_game', 'iHDCF_per_game', \n",
    "         'assists_per_game', 'iCF_per_game', 'rebounds_created_per_game', 'time_on_ice_per_game']\n",
    "X_adjusted = merged_clutch_goals_prediction[x_var]\n",
    "y_var = 'clutch_score'\n",
    "y = merged_clutch_goals_prediction[y_var]"
   ]
  },
  {
   "cell_type": "code",
   "execution_count": 20,
   "id": "7634dfc9-ddf2-42fa-a7a5-6e80ca9a6082",
   "metadata": {},
   "outputs": [
    {
     "ename": "ValueError",
     "evalue": "Found array with 0 sample(s) (shape=(0, 9)) while a minimum of 1 is required by StandardScaler.",
     "output_type": "error",
     "traceback": [
      "\u001b[1;31m---------------------------------------------------------------------------\u001b[0m",
      "\u001b[1;31mValueError\u001b[0m                                Traceback (most recent call last)",
      "Cell \u001b[1;32mIn[20], line 1\u001b[0m\n\u001b[1;32m----> 1\u001b[0m X_scaled \u001b[38;5;241m=\u001b[39m StandardScaler()\u001b[38;5;241m.\u001b[39mfit_transform(X_adjusted)\n\u001b[0;32m      2\u001b[0m X_scaled \u001b[38;5;241m=\u001b[39m np\u001b[38;5;241m.\u001b[39mnan_to_num(X_scaled, nan\u001b[38;5;241m=\u001b[39m\u001b[38;5;241m0\u001b[39m)\n\u001b[0;32m      4\u001b[0m epsilon \u001b[38;5;241m=\u001b[39m np\u001b[38;5;241m.\u001b[39mabs(X_scaled\u001b[38;5;241m.\u001b[39mmin()) \u001b[38;5;241m+\u001b[39m \u001b[38;5;241m1\u001b[39m\n",
      "File \u001b[1;32m~\\anaconda3\\Lib\\site-packages\\sklearn\\utils\\_set_output.py:295\u001b[0m, in \u001b[0;36m_wrap_method_output.<locals>.wrapped\u001b[1;34m(self, X, *args, **kwargs)\u001b[0m\n\u001b[0;32m    293\u001b[0m \u001b[38;5;129m@wraps\u001b[39m(f)\n\u001b[0;32m    294\u001b[0m \u001b[38;5;28;01mdef\u001b[39;00m \u001b[38;5;21mwrapped\u001b[39m(\u001b[38;5;28mself\u001b[39m, X, \u001b[38;5;241m*\u001b[39margs, \u001b[38;5;241m*\u001b[39m\u001b[38;5;241m*\u001b[39mkwargs):\n\u001b[1;32m--> 295\u001b[0m     data_to_wrap \u001b[38;5;241m=\u001b[39m f(\u001b[38;5;28mself\u001b[39m, X, \u001b[38;5;241m*\u001b[39margs, \u001b[38;5;241m*\u001b[39m\u001b[38;5;241m*\u001b[39mkwargs)\n\u001b[0;32m    296\u001b[0m     \u001b[38;5;28;01mif\u001b[39;00m \u001b[38;5;28misinstance\u001b[39m(data_to_wrap, \u001b[38;5;28mtuple\u001b[39m):\n\u001b[0;32m    297\u001b[0m         \u001b[38;5;66;03m# only wrap the first output for cross decomposition\u001b[39;00m\n\u001b[0;32m    298\u001b[0m         return_tuple \u001b[38;5;241m=\u001b[39m (\n\u001b[0;32m    299\u001b[0m             _wrap_data_with_container(method, data_to_wrap[\u001b[38;5;241m0\u001b[39m], X, \u001b[38;5;28mself\u001b[39m),\n\u001b[0;32m    300\u001b[0m             \u001b[38;5;241m*\u001b[39mdata_to_wrap[\u001b[38;5;241m1\u001b[39m:],\n\u001b[0;32m    301\u001b[0m         )\n",
      "File \u001b[1;32m~\\anaconda3\\Lib\\site-packages\\sklearn\\base.py:1098\u001b[0m, in \u001b[0;36mTransformerMixin.fit_transform\u001b[1;34m(self, X, y, **fit_params)\u001b[0m\n\u001b[0;32m   1083\u001b[0m         warnings\u001b[38;5;241m.\u001b[39mwarn(\n\u001b[0;32m   1084\u001b[0m             (\n\u001b[0;32m   1085\u001b[0m                 \u001b[38;5;124mf\u001b[39m\u001b[38;5;124m\"\u001b[39m\u001b[38;5;124mThis object (\u001b[39m\u001b[38;5;132;01m{\u001b[39;00m\u001b[38;5;28mself\u001b[39m\u001b[38;5;241m.\u001b[39m\u001b[38;5;18m__class__\u001b[39m\u001b[38;5;241m.\u001b[39m\u001b[38;5;18m__name__\u001b[39m\u001b[38;5;132;01m}\u001b[39;00m\u001b[38;5;124m) has a `transform`\u001b[39m\u001b[38;5;124m\"\u001b[39m\n\u001b[1;32m   (...)\u001b[0m\n\u001b[0;32m   1093\u001b[0m             \u001b[38;5;167;01mUserWarning\u001b[39;00m,\n\u001b[0;32m   1094\u001b[0m         )\n\u001b[0;32m   1096\u001b[0m \u001b[38;5;28;01mif\u001b[39;00m y \u001b[38;5;129;01mis\u001b[39;00m \u001b[38;5;28;01mNone\u001b[39;00m:\n\u001b[0;32m   1097\u001b[0m     \u001b[38;5;66;03m# fit method of arity 1 (unsupervised transformation)\u001b[39;00m\n\u001b[1;32m-> 1098\u001b[0m     \u001b[38;5;28;01mreturn\u001b[39;00m \u001b[38;5;28mself\u001b[39m\u001b[38;5;241m.\u001b[39mfit(X, \u001b[38;5;241m*\u001b[39m\u001b[38;5;241m*\u001b[39mfit_params)\u001b[38;5;241m.\u001b[39mtransform(X)\n\u001b[0;32m   1099\u001b[0m \u001b[38;5;28;01melse\u001b[39;00m:\n\u001b[0;32m   1100\u001b[0m     \u001b[38;5;66;03m# fit method of arity 2 (supervised transformation)\u001b[39;00m\n\u001b[0;32m   1101\u001b[0m     \u001b[38;5;28;01mreturn\u001b[39;00m \u001b[38;5;28mself\u001b[39m\u001b[38;5;241m.\u001b[39mfit(X, y, \u001b[38;5;241m*\u001b[39m\u001b[38;5;241m*\u001b[39mfit_params)\u001b[38;5;241m.\u001b[39mtransform(X)\n",
      "File \u001b[1;32m~\\anaconda3\\Lib\\site-packages\\sklearn\\preprocessing\\_data.py:876\u001b[0m, in \u001b[0;36mStandardScaler.fit\u001b[1;34m(self, X, y, sample_weight)\u001b[0m\n\u001b[0;32m    874\u001b[0m \u001b[38;5;66;03m# Reset internal state before fitting\u001b[39;00m\n\u001b[0;32m    875\u001b[0m \u001b[38;5;28mself\u001b[39m\u001b[38;5;241m.\u001b[39m_reset()\n\u001b[1;32m--> 876\u001b[0m \u001b[38;5;28;01mreturn\u001b[39;00m \u001b[38;5;28mself\u001b[39m\u001b[38;5;241m.\u001b[39mpartial_fit(X, y, sample_weight)\n",
      "File \u001b[1;32m~\\anaconda3\\Lib\\site-packages\\sklearn\\base.py:1474\u001b[0m, in \u001b[0;36m_fit_context.<locals>.decorator.<locals>.wrapper\u001b[1;34m(estimator, *args, **kwargs)\u001b[0m\n\u001b[0;32m   1467\u001b[0m     estimator\u001b[38;5;241m.\u001b[39m_validate_params()\n\u001b[0;32m   1469\u001b[0m \u001b[38;5;28;01mwith\u001b[39;00m config_context(\n\u001b[0;32m   1470\u001b[0m     skip_parameter_validation\u001b[38;5;241m=\u001b[39m(\n\u001b[0;32m   1471\u001b[0m         prefer_skip_nested_validation \u001b[38;5;129;01mor\u001b[39;00m global_skip_validation\n\u001b[0;32m   1472\u001b[0m     )\n\u001b[0;32m   1473\u001b[0m ):\n\u001b[1;32m-> 1474\u001b[0m     \u001b[38;5;28;01mreturn\u001b[39;00m fit_method(estimator, \u001b[38;5;241m*\u001b[39margs, \u001b[38;5;241m*\u001b[39m\u001b[38;5;241m*\u001b[39mkwargs)\n",
      "File \u001b[1;32m~\\anaconda3\\Lib\\site-packages\\sklearn\\preprocessing\\_data.py:912\u001b[0m, in \u001b[0;36mStandardScaler.partial_fit\u001b[1;34m(self, X, y, sample_weight)\u001b[0m\n\u001b[0;32m    880\u001b[0m \u001b[38;5;250m\u001b[39m\u001b[38;5;124;03m\"\"\"Online computation of mean and std on X for later scaling.\u001b[39;00m\n\u001b[0;32m    881\u001b[0m \n\u001b[0;32m    882\u001b[0m \u001b[38;5;124;03mAll of X is processed as a single batch. This is intended for cases\u001b[39;00m\n\u001b[1;32m   (...)\u001b[0m\n\u001b[0;32m    909\u001b[0m \u001b[38;5;124;03m    Fitted scaler.\u001b[39;00m\n\u001b[0;32m    910\u001b[0m \u001b[38;5;124;03m\"\"\"\u001b[39;00m\n\u001b[0;32m    911\u001b[0m first_call \u001b[38;5;241m=\u001b[39m \u001b[38;5;129;01mnot\u001b[39;00m \u001b[38;5;28mhasattr\u001b[39m(\u001b[38;5;28mself\u001b[39m, \u001b[38;5;124m\"\u001b[39m\u001b[38;5;124mn_samples_seen_\u001b[39m\u001b[38;5;124m\"\u001b[39m)\n\u001b[1;32m--> 912\u001b[0m X \u001b[38;5;241m=\u001b[39m \u001b[38;5;28mself\u001b[39m\u001b[38;5;241m.\u001b[39m_validate_data(\n\u001b[0;32m    913\u001b[0m     X,\n\u001b[0;32m    914\u001b[0m     accept_sparse\u001b[38;5;241m=\u001b[39m(\u001b[38;5;124m\"\u001b[39m\u001b[38;5;124mcsr\u001b[39m\u001b[38;5;124m\"\u001b[39m, \u001b[38;5;124m\"\u001b[39m\u001b[38;5;124mcsc\u001b[39m\u001b[38;5;124m\"\u001b[39m),\n\u001b[0;32m    915\u001b[0m     dtype\u001b[38;5;241m=\u001b[39mFLOAT_DTYPES,\n\u001b[0;32m    916\u001b[0m     force_all_finite\u001b[38;5;241m=\u001b[39m\u001b[38;5;124m\"\u001b[39m\u001b[38;5;124mallow-nan\u001b[39m\u001b[38;5;124m\"\u001b[39m,\n\u001b[0;32m    917\u001b[0m     reset\u001b[38;5;241m=\u001b[39mfirst_call,\n\u001b[0;32m    918\u001b[0m )\n\u001b[0;32m    919\u001b[0m n_features \u001b[38;5;241m=\u001b[39m X\u001b[38;5;241m.\u001b[39mshape[\u001b[38;5;241m1\u001b[39m]\n\u001b[0;32m    921\u001b[0m \u001b[38;5;28;01mif\u001b[39;00m sample_weight \u001b[38;5;129;01mis\u001b[39;00m \u001b[38;5;129;01mnot\u001b[39;00m \u001b[38;5;28;01mNone\u001b[39;00m:\n",
      "File \u001b[1;32m~\\anaconda3\\Lib\\site-packages\\sklearn\\base.py:633\u001b[0m, in \u001b[0;36mBaseEstimator._validate_data\u001b[1;34m(self, X, y, reset, validate_separately, cast_to_ndarray, **check_params)\u001b[0m\n\u001b[0;32m    631\u001b[0m         out \u001b[38;5;241m=\u001b[39m X, y\n\u001b[0;32m    632\u001b[0m \u001b[38;5;28;01melif\u001b[39;00m \u001b[38;5;129;01mnot\u001b[39;00m no_val_X \u001b[38;5;129;01mand\u001b[39;00m no_val_y:\n\u001b[1;32m--> 633\u001b[0m     out \u001b[38;5;241m=\u001b[39m check_array(X, input_name\u001b[38;5;241m=\u001b[39m\u001b[38;5;124m\"\u001b[39m\u001b[38;5;124mX\u001b[39m\u001b[38;5;124m\"\u001b[39m, \u001b[38;5;241m*\u001b[39m\u001b[38;5;241m*\u001b[39mcheck_params)\n\u001b[0;32m    634\u001b[0m \u001b[38;5;28;01melif\u001b[39;00m no_val_X \u001b[38;5;129;01mand\u001b[39;00m \u001b[38;5;129;01mnot\u001b[39;00m no_val_y:\n\u001b[0;32m    635\u001b[0m     out \u001b[38;5;241m=\u001b[39m _check_y(y, \u001b[38;5;241m*\u001b[39m\u001b[38;5;241m*\u001b[39mcheck_params)\n",
      "File \u001b[1;32m~\\anaconda3\\Lib\\site-packages\\sklearn\\utils\\validation.py:1072\u001b[0m, in \u001b[0;36mcheck_array\u001b[1;34m(array, accept_sparse, accept_large_sparse, dtype, order, copy, force_all_finite, ensure_2d, allow_nd, ensure_min_samples, ensure_min_features, estimator, input_name)\u001b[0m\n\u001b[0;32m   1070\u001b[0m     n_samples \u001b[38;5;241m=\u001b[39m _num_samples(array)\n\u001b[0;32m   1071\u001b[0m     \u001b[38;5;28;01mif\u001b[39;00m n_samples \u001b[38;5;241m<\u001b[39m ensure_min_samples:\n\u001b[1;32m-> 1072\u001b[0m         \u001b[38;5;28;01mraise\u001b[39;00m \u001b[38;5;167;01mValueError\u001b[39;00m(\n\u001b[0;32m   1073\u001b[0m             \u001b[38;5;124m\"\u001b[39m\u001b[38;5;124mFound array with \u001b[39m\u001b[38;5;132;01m%d\u001b[39;00m\u001b[38;5;124m sample(s) (shape=\u001b[39m\u001b[38;5;132;01m%s\u001b[39;00m\u001b[38;5;124m) while a\u001b[39m\u001b[38;5;124m\"\u001b[39m\n\u001b[0;32m   1074\u001b[0m             \u001b[38;5;124m\"\u001b[39m\u001b[38;5;124m minimum of \u001b[39m\u001b[38;5;132;01m%d\u001b[39;00m\u001b[38;5;124m is required\u001b[39m\u001b[38;5;132;01m%s\u001b[39;00m\u001b[38;5;124m.\u001b[39m\u001b[38;5;124m\"\u001b[39m\n\u001b[0;32m   1075\u001b[0m             \u001b[38;5;241m%\u001b[39m (n_samples, array\u001b[38;5;241m.\u001b[39mshape, ensure_min_samples, context)\n\u001b[0;32m   1076\u001b[0m         )\n\u001b[0;32m   1078\u001b[0m \u001b[38;5;28;01mif\u001b[39;00m ensure_min_features \u001b[38;5;241m>\u001b[39m \u001b[38;5;241m0\u001b[39m \u001b[38;5;129;01mand\u001b[39;00m array\u001b[38;5;241m.\u001b[39mndim \u001b[38;5;241m==\u001b[39m \u001b[38;5;241m2\u001b[39m:\n\u001b[0;32m   1079\u001b[0m     n_features \u001b[38;5;241m=\u001b[39m array\u001b[38;5;241m.\u001b[39mshape[\u001b[38;5;241m1\u001b[39m]\n",
      "\u001b[1;31mValueError\u001b[0m: Found array with 0 sample(s) (shape=(0, 9)) while a minimum of 1 is required by StandardScaler."
     ]
    }
   ],
   "source": [
    "X_scaled = StandardScaler().fit_transform(X_adjusted)\n",
    "X_scaled = np.nan_to_num(X_scaled, nan=0)\n",
    "\n",
    "epsilon = np.abs(X_scaled.min()) + 1\n",
    "\n",
    "X_shifted = X_scaled + epsilon\n",
    "\n",
    "y_log = np.log(y + 1)\n",
    "\n",
    "X_log = np.log(X_shifted)\n",
    "\n",
    "y_pred = ridge_cv_log_loaded.predict(X_log)"
   ]
  },
  {
   "cell_type": "code",
   "execution_count": null,
   "id": "85244501-fa3b-4e06-9788-0cacb17ad572",
   "metadata": {},
   "outputs": [],
   "source": [
    "merged_clutch_goals_prediction['log_adjusted'] = np.log(merged_clutch_goals_prediction['clutch_score'] + 1) * 10\n",
    "merged_clutch_goals_prediction['predicted_clutch_score_adjusted'] = y_pred * 10\n",
    "merged_clutch_goals_prediction = merged_clutch_goals_prediction.sort_values(by='predicted_clutch_score_adjusted', ascending = False)\n",
    "merged_clutch_goals_prediction['log_adjusted'] = merged_clutch_goals_prediction['log_adjusted'].apply(lambda x: round(x, 2))\n",
    "merged_clutch_goals_prediction['predicted_clutch_score_adjusted'] = merged_clutch_goals_prediction['predicted_clutch_score_adjusted'].apply(lambda x: round(x, 2))"
   ]
  },
  {
   "cell_type": "code",
   "execution_count": null,
   "id": "2e1aea6f-82ef-40b5-9c7b-14716d67053d",
   "metadata": {},
   "outputs": [],
   "source": [
    "def create_clutch_rankings(df):\n",
    "\n",
    "    def assign_tier(z_score):\n",
    "        if z_score >= 2:\n",
    "            return 'Franchise'\n",
    "        elif z_score >= 1.5:\n",
    "            return 'Elite'\n",
    "        elif z_score >= 1:\n",
    "            return 'Above Average'\n",
    "        elif z_score > -1:\n",
    "            return 'Below Average'\n",
    "        else:\n",
    "            return 'Limited Clutch Impact'\n",
    "\n",
    "    rankings = df.copy()\n",
    "    mean_score = rankings['log_adjusted'].mean()\n",
    "    std_score = rankings['log_adjusted'].std()\n",
    "    rankings['standard_deviations'] = (rankings['log_adjusted'] - mean_score) / std_score\n",
    "    \n",
    "    rankings['tier'] = rankings['standard_deviations'].apply(assign_tier)\n",
    "    \n",
    "    rankings['vs_predicted'] = ((rankings['log_adjusted'] - rankings['predicted_clutch_score_adjusted']) / rankings['predicted_clutch_score_adjusted'] * 100).round(2)\n",
    "            \n",
    "    def get_prediction_reliability(diff_num):\n",
    "        if diff_num >= 0:\n",
    "            if  diff_num <= 10:\n",
    "                return 'Slightly Overperforming'\n",
    "            elif diff_num <= 20:\n",
    "                return 'Overperforming'   \n",
    "            else:\n",
    "                return 'Heavily Overperforming'\n",
    "        elif diff_num <= 0:\n",
    "            if  diff_num >= -10:\n",
    "                return 'Slightly Underperforming'\n",
    "            elif diff_num >= -20:\n",
    "                return 'Underperforming'   \n",
    "            else:\n",
    "                return 'Heavily Underperforming'   \n",
    "\n",
    "    \n",
    "    rankings['Prediction Reliability'] = rankings['vs_predicted'].apply(get_prediction_reliability)\n",
    "    \n",
    "    player_output = rankings[[\n",
    "        'Player',\n",
    "        'teamAbbrevs',\n",
    "        'headshot',\n",
    "        'logo',\n",
    "        'predicted_clutch_score_adjusted',\n",
    "        'log_adjusted',\n",
    "        'tier',\n",
    "        'vs_predicted',\n",
    "        'Prediction Reliability'\n",
    "    ]].sort_values('log_adjusted', ascending=False)\n",
    "\n",
    "    player_output = player_output.reset_index(drop=True)\n",
    "    \n",
    "    player_output.columns = ['Player', 'Team', 'Headshot', 'Logo', 'Predicted Clutch Score', 'Actual Clutch Score', 'Tier', 'Predicted VS Actual', 'Reliability']\n",
    "\n",
    "    \n",
    "    player_output.to_excel(\"Player Clutch Statistics.xlsx\")\n"
   ]
  },
  {
   "cell_type": "code",
   "execution_count": 45,
   "id": "6f70f978-cc9c-4677-9257-795bdd51c972",
   "metadata": {},
   "outputs": [],
   "source": [
    "create_clutch_rankings(merged_clutch_goals_prediction)"
   ]
  },
  {
   "cell_type": "code",
   "execution_count": null,
   "id": "602a8950-76be-4b53-a88b-ef243dc15c49",
   "metadata": {},
   "outputs": [],
   "source": []
  }
 ],
 "metadata": {
  "kernelspec": {
   "display_name": "Python 3 (ipykernel)",
   "language": "python",
   "name": "python3"
  },
  "language_info": {
   "codemirror_mode": {
    "name": "ipython",
    "version": 3
   },
   "file_extension": ".py",
   "mimetype": "text/x-python",
   "name": "python",
   "nbconvert_exporter": "python",
   "pygments_lexer": "ipython3",
   "version": "3.12.4"
  }
 },
 "nbformat": 4,
 "nbformat_minor": 5
}
