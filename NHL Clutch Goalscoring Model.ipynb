{
 "cells": [
  {
   "cell_type": "code",
   "execution_count": 11,
   "id": "4c57f9dd-2a06-4c3b-8c00-7eaddfafe447",
   "metadata": {},
   "outputs": [],
   "source": [
    "import warnings\n",
    "warnings.simplefilter(action='ignore', category=FutureWarning)\n",
    "\n",
    "import requests\n",
    "import json\n",
    "import pandas as pd\n",
    "from pandas import DataFrame, Series\n"
   ]
  },
  {
   "cell_type": "code",
   "execution_count": 15,
   "id": "d06a408b-d4e5-4081-ab89-dce71ebf9d46",
   "metadata": {},
   "outputs": [
    {
     "name": "stdout",
     "output_type": "stream",
     "text": [
      "Error fetching data for season 2021-2022: Invalid URL 'com': No scheme supplied. Perhaps you meant https://com?\n",
      "Error fetching data for season 2022-2023: Invalid URL 'com': No scheme supplied. Perhaps you meant https://com?\n",
      "Error fetching data for season 2023-2024: Invalid URL 'com': No scheme supplied. Perhaps you meant https://com?\n",
      "      playerId positionCode  gamesPlayed  otGoals  gameWinningGoals\n",
      "0      8465009            D           72        0                 0\n",
      "1      8466138            C           35        0                 1\n",
      "2      8469455            C           76        0                 1\n",
      "3      8470281            D           80        0                 1\n",
      "4      8470595            C           93        0                 1\n",
      "...        ...          ...          ...      ...               ...\n",
      "1251   8484314            L           20        0                 0\n",
      "1252   8484321            D            4        0                 0\n",
      "1253   8484325            C           19        0                 0\n",
      "1254   8484326            D            1        0                 0\n",
      "1255   8484911            R            7        0                 0\n",
      "\n",
      "[1256 rows x 5 columns]\n"
     ]
    }
   ],
   "source": [
    "all_seasons = []\n",
    "\n",
    "for season in range(2021, 2024):\n",
    "    summary_url = f\"https://api.nhle.com/stats/rest/en/skater/summary?limit=-1&cayenneExp=seasonId={season}{season+1}&gameType=2\"\n",
    "\n",
    "    try:\n",
    "        summary_resp = requests.get(summary_url)\n",
    "        summary_resp.raise_for_status() \n",
    "        summary_json =  summary_resp.json()\n",
    "\n",
    "        if summary_json['data']:\n",
    "            df_summary = DataFrame(summary_json['data'])\n",
    "            all_seasons.append(df_summary)\n",
    "            df_summary['season'] = f\"{season}-{season + 1}\"\n",
    "            print(f\"Successfully fetched data for season {season}-{season+1}\")\n",
    "        else:\n",
    "            print(f\"No data returned for season {season}-{season + 1}\")\n",
    "        \n",
    "    except requests.exceptions.RequestException as e:\n",
    "        print(f\"Error fetching data for season {season}-{season + 1}: {e}\")\n",
    "\n",
    "if all_seasons:\n",
    "    df_combined_summary = pd.concat(all_seasons, ignore_index=True)\n",
    "    df_combined_summary = df_combined_summary.groupby('playerId').agg({\n",
    "            'playerId': 'first',\n",
    "            'positionCode': 'first',\n",
    "            'gamesPlayed': 'sum',\n",
    "            'otGoals': 'sum',\n",
    "            'gameWinningGoals': 'sum',\n",
    "        }).reset_index(drop = True)\n",
    "    \n",
    "print(df_combined_summary)"
   ]
  },
  {
   "cell_type": "code",
   "execution_count": 16,
   "id": "12da6a22-38b6-4615-9b99-bd2eea35da3b",
   "metadata": {},
   "outputs": [],
   "source": [
    "df_combined_summary = df_combined_summary.loc[(df_combined_summary['positionCode'] != 'D') & (df_combined_summary['gamesPlayed'] >= 60)]\n",
    "df_combined_summary = df_combined_summary.reset_index(drop = True)\n",
    "df_combined_summary = df_combined_summary.fillna(0)"
   ]
  },
  {
   "cell_type": "code",
   "execution_count": null,
   "id": "98ca8a0e-44ee-4c52-9f55-cb1b527468a0",
   "metadata": {},
   "outputs": [],
   "source": []
  }
 ],
 "metadata": {
  "kernelspec": {
   "display_name": "Python 3 (ipykernel)",
   "language": "python",
   "name": "python3"
  },
  "language_info": {
   "codemirror_mode": {
    "name": "ipython",
    "version": 3
   },
   "file_extension": ".py",
   "mimetype": "text/x-python",
   "name": "python",
   "nbconvert_exporter": "python",
   "pygments_lexer": "ipython3",
   "version": "3.11.7"
  }
 },
 "nbformat": 4,
 "nbformat_minor": 5
}
