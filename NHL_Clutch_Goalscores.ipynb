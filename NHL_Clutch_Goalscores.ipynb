{
 "cells": [
  {
   "cell_type": "code",
   "execution_count": 2,
   "id": "edc8913f-6e97-4805-8b67-468c82b2c094",
   "metadata": {},
   "outputs": [],
   "source": [
    "import warnings\n",
    "warnings.simplefilter(action='ignore', category=FutureWarning)\n",
    "\n",
    "import requests\n",
    "import json\n",
    "import random\n",
    "import pandas as pd\n",
    "import datetime as dt\n",
    "import numpy as np\n",
    "import seaborn as sns\n",
    "import matplotlib.image as mpimg\n",
    "import matplotlib.pyplot as plt\n",
    "\n",
    "from pandas import DataFrame, Series\n",
    "from patsy import dmatrices\n",
    "from pandas import DataFrame, Series\n",
    "from sklearn import metrics\n",
    "from sklearn.ensemble import RandomForestClassifier\n",
    "from sklearn.metrics import precision_score, recall_score, f1_score\n",
    "from sklearn.metrics import balanced_accuracy_score\n",
    "from sklearn.metrics import matthews_corrcoef\n",
    "from sklearn.metrics import roc_auc_score\n",
    "from sklearn.ensemble import RandomForestClassifier\n",
    "from sklearn.model_selection import train_test_split\n",
    "from sklearn.utils.class_weight import compute_class_weight\n",
    "from sklearn.linear_model import LogisticRegression\n",
    "from sklearn.model_selection import train_test_split, cross_val_score\n",
    "from sklearn.metrics import confusion_matrix\n",
    "from sklearn.metrics import mean_squared_error\n",
    "\n"
   ]
  },
  {
   "cell_type": "code",
   "execution_count": 3,
   "id": "c3d40ce9-690d-40eb-bee1-f983f35d6445",
   "metadata": {},
   "outputs": [],
   "source": [
    "percentages_url = 'https://api.nhle.com/stats/rest/en/skater/percentages?limit=-1&cayenneExp=seasonId=20232024'\n",
    "percentages_resp = requests.get(percentages_url)\n",
    "percentages_json = percentages_resp.json()"
   ]
  },
  {
   "cell_type": "code",
   "execution_count": 4,
   "id": "9af53487-958b-4f7a-aede-e3f169363ee4",
   "metadata": {},
   "outputs": [],
   "source": [
    "df_percentages = DataFrame(percentages_json['data'])\n",
    "df_percentages_filtered = df_percentages.loc[(df_percentages['positionCode'] != 'D') & (df_percentages['gamesPlayed'] >= 20)]\n",
    "df_percentages_filtered = df_percentages_filtered.reset_index(drop=True)\n",
    "df_percentages_filtered.drop(['skaterSavePct5v5', 'seasonId','shootingPct5v5', 'timeOnIcePerGame5v5', 'zoneStartPct5v5', 'satPercentage', 'satPercentageBehind', 'satPercentageAhead', 'satRelative', 'skaterShootingPlusSavePct5v5', 'usatPercentage', 'usatPercentageAhead', 'usatPercentageBehind', 'usatRelative'], axis=1, inplace=True)\n",
    "df_percentages_filtered = df_percentages_filtered[['playerId', 'skaterFullName', 'lastName', 'positionCode', 'teamAbbrevs', 'gamesPlayed', 'shootsCatches','satPercentageClose',\n",
    " 'satPercentageTied','usatPercentageTied', 'usatPrecentageClose']]"
   ]
  },
  {
   "cell_type": "code",
   "execution_count": 5,
   "id": "1e6da2e8-5ed3-4fc4-838f-fa5cbc3ac1b6",
   "metadata": {},
   "outputs": [
    {
     "data": {
      "text/html": [
       "<div>\n",
       "<style scoped>\n",
       "    .dataframe tbody tr th:only-of-type {\n",
       "        vertical-align: middle;\n",
       "    }\n",
       "\n",
       "    .dataframe tbody tr th {\n",
       "        vertical-align: top;\n",
       "    }\n",
       "\n",
       "    .dataframe thead th {\n",
       "        text-align: right;\n",
       "    }\n",
       "</style>\n",
       "<table border=\"1\" class=\"dataframe\">\n",
       "  <thead>\n",
       "    <tr style=\"text-align: right;\">\n",
       "      <th></th>\n",
       "      <th>playerId</th>\n",
       "      <th>skaterFullName</th>\n",
       "      <th>lastName</th>\n",
       "      <th>positionCode</th>\n",
       "      <th>teamAbbrevs</th>\n",
       "      <th>gamesPlayed</th>\n",
       "      <th>shootsCatches</th>\n",
       "      <th>satPercentageClose</th>\n",
       "      <th>satPercentageTied</th>\n",
       "      <th>usatPercentageTied</th>\n",
       "      <th>usatPrecentageClose</th>\n",
       "    </tr>\n",
       "  </thead>\n",
       "  <tbody>\n",
       "    <tr>\n",
       "      <th>0</th>\n",
       "      <td>8478028</td>\n",
       "      <td>Fredrik Olofsson</td>\n",
       "      <td>Olofsson</td>\n",
       "      <td>L</td>\n",
       "      <td>COL</td>\n",
       "      <td>57</td>\n",
       "      <td>L</td>\n",
       "      <td>0.456</td>\n",
       "      <td>0.428</td>\n",
       "      <td>0.401</td>\n",
       "      <td>0.436</td>\n",
       "    </tr>\n",
       "    <tr>\n",
       "      <th>1</th>\n",
       "      <td>8480039</td>\n",
       "      <td>Martin Necas</td>\n",
       "      <td>Necas</td>\n",
       "      <td>C</td>\n",
       "      <td>CAR</td>\n",
       "      <td>82</td>\n",
       "      <td>R</td>\n",
       "      <td>0.610</td>\n",
       "      <td>0.621</td>\n",
       "      <td>0.601</td>\n",
       "      <td>0.597</td>\n",
       "    </tr>\n",
       "    <tr>\n",
       "      <th>2</th>\n",
       "      <td>8481601</td>\n",
       "      <td>Simon Holmstrom</td>\n",
       "      <td>Holmstrom</td>\n",
       "      <td>R</td>\n",
       "      <td>NYI</td>\n",
       "      <td>78</td>\n",
       "      <td>L</td>\n",
       "      <td>0.434</td>\n",
       "      <td>0.441</td>\n",
       "      <td>0.438</td>\n",
       "      <td>0.435</td>\n",
       "    </tr>\n",
       "    <tr>\n",
       "      <th>3</th>\n",
       "      <td>8477402</td>\n",
       "      <td>Pavel Buchnevich</td>\n",
       "      <td>Buchnevich</td>\n",
       "      <td>L</td>\n",
       "      <td>STL</td>\n",
       "      <td>80</td>\n",
       "      <td>L</td>\n",
       "      <td>0.509</td>\n",
       "      <td>0.503</td>\n",
       "      <td>0.487</td>\n",
       "      <td>0.490</td>\n",
       "    </tr>\n",
       "    <tr>\n",
       "      <th>4</th>\n",
       "      <td>8477989</td>\n",
       "      <td>Christian Dvorak</td>\n",
       "      <td>Dvorak</td>\n",
       "      <td>C</td>\n",
       "      <td>MTL</td>\n",
       "      <td>30</td>\n",
       "      <td>L</td>\n",
       "      <td>0.463</td>\n",
       "      <td>0.442</td>\n",
       "      <td>0.425</td>\n",
       "      <td>0.466</td>\n",
       "    </tr>\n",
       "    <tr>\n",
       "      <th>...</th>\n",
       "      <td>...</td>\n",
       "      <td>...</td>\n",
       "      <td>...</td>\n",
       "      <td>...</td>\n",
       "      <td>...</td>\n",
       "      <td>...</td>\n",
       "      <td>...</td>\n",
       "      <td>...</td>\n",
       "      <td>...</td>\n",
       "      <td>...</td>\n",
       "      <td>...</td>\n",
       "    </tr>\n",
       "    <tr>\n",
       "      <th>467</th>\n",
       "      <td>8477940</td>\n",
       "      <td>Nikolaj Ehlers</td>\n",
       "      <td>Ehlers</td>\n",
       "      <td>L</td>\n",
       "      <td>WPG</td>\n",
       "      <td>86</td>\n",
       "      <td>L</td>\n",
       "      <td>0.542</td>\n",
       "      <td>0.567</td>\n",
       "      <td>0.564</td>\n",
       "      <td>0.543</td>\n",
       "    </tr>\n",
       "    <tr>\n",
       "      <th>468</th>\n",
       "      <td>8480007</td>\n",
       "      <td>Jonas Rondbjerg</td>\n",
       "      <td>Rondbjerg</td>\n",
       "      <td>R</td>\n",
       "      <td>VGK</td>\n",
       "      <td>20</td>\n",
       "      <td>L</td>\n",
       "      <td>0.433</td>\n",
       "      <td>0.419</td>\n",
       "      <td>0.405</td>\n",
       "      <td>0.414</td>\n",
       "    </tr>\n",
       "    <tr>\n",
       "      <th>469</th>\n",
       "      <td>8479981</td>\n",
       "      <td>Jonah Gadjovich</td>\n",
       "      <td>Gadjovich</td>\n",
       "      <td>L</td>\n",
       "      <td>FLA</td>\n",
       "      <td>39</td>\n",
       "      <td>L</td>\n",
       "      <td>0.501</td>\n",
       "      <td>0.546</td>\n",
       "      <td>0.515</td>\n",
       "      <td>0.484</td>\n",
       "    </tr>\n",
       "    <tr>\n",
       "      <th>470</th>\n",
       "      <td>8482125</td>\n",
       "      <td>Alexander Holtz</td>\n",
       "      <td>Holtz</td>\n",
       "      <td>R</td>\n",
       "      <td>NJD</td>\n",
       "      <td>82</td>\n",
       "      <td>R</td>\n",
       "      <td>0.475</td>\n",
       "      <td>0.458</td>\n",
       "      <td>0.437</td>\n",
       "      <td>0.456</td>\n",
       "    </tr>\n",
       "    <tr>\n",
       "      <th>471</th>\n",
       "      <td>8482157</td>\n",
       "      <td>Will Cuylle</td>\n",
       "      <td>Cuylle</td>\n",
       "      <td>L</td>\n",
       "      <td>NYR</td>\n",
       "      <td>85</td>\n",
       "      <td>L</td>\n",
       "      <td>0.492</td>\n",
       "      <td>0.510</td>\n",
       "      <td>0.543</td>\n",
       "      <td>0.512</td>\n",
       "    </tr>\n",
       "  </tbody>\n",
       "</table>\n",
       "<p>472 rows × 11 columns</p>\n",
       "</div>"
      ],
      "text/plain": [
       "     playerId    skaterFullName    lastName positionCode teamAbbrevs  \\\n",
       "0     8478028  Fredrik Olofsson    Olofsson            L         COL   \n",
       "1     8480039      Martin Necas       Necas            C         CAR   \n",
       "2     8481601   Simon Holmstrom   Holmstrom            R         NYI   \n",
       "3     8477402  Pavel Buchnevich  Buchnevich            L         STL   \n",
       "4     8477989  Christian Dvorak      Dvorak            C         MTL   \n",
       "..        ...               ...         ...          ...         ...   \n",
       "467   8477940    Nikolaj Ehlers      Ehlers            L         WPG   \n",
       "468   8480007   Jonas Rondbjerg   Rondbjerg            R         VGK   \n",
       "469   8479981   Jonah Gadjovich   Gadjovich            L         FLA   \n",
       "470   8482125   Alexander Holtz       Holtz            R         NJD   \n",
       "471   8482157       Will Cuylle      Cuylle            L         NYR   \n",
       "\n",
       "     gamesPlayed shootsCatches  satPercentageClose  satPercentageTied  \\\n",
       "0             57             L               0.456              0.428   \n",
       "1             82             R               0.610              0.621   \n",
       "2             78             L               0.434              0.441   \n",
       "3             80             L               0.509              0.503   \n",
       "4             30             L               0.463              0.442   \n",
       "..           ...           ...                 ...                ...   \n",
       "467           86             L               0.542              0.567   \n",
       "468           20             L               0.433              0.419   \n",
       "469           39             L               0.501              0.546   \n",
       "470           82             R               0.475              0.458   \n",
       "471           85             L               0.492              0.510   \n",
       "\n",
       "     usatPercentageTied  usatPrecentageClose  \n",
       "0                 0.401                0.436  \n",
       "1                 0.601                0.597  \n",
       "2                 0.438                0.435  \n",
       "3                 0.487                0.490  \n",
       "4                 0.425                0.466  \n",
       "..                  ...                  ...  \n",
       "467               0.564                0.543  \n",
       "468               0.405                0.414  \n",
       "469               0.515                0.484  \n",
       "470               0.437                0.456  \n",
       "471               0.543                0.512  \n",
       "\n",
       "[472 rows x 11 columns]"
      ]
     },
     "execution_count": 5,
     "metadata": {},
     "output_type": "execute_result"
    }
   ],
   "source": [
    "df_percentages_filtered"
   ]
  },
  {
   "cell_type": "code",
   "execution_count": 6,
   "id": "384bb8fa-8917-44e6-8c5d-24f82480a233",
   "metadata": {},
   "outputs": [],
   "source": [
    "summary_url = 'https://api.nhle.com/stats/rest/en/skater/summary?limit=-1&cayenneExp=seasonId=20232024'\n",
    "summary_resp = requests.get(summary_url)\n",
    "summary_json = summary_resp.json()"
   ]
  },
  {
   "cell_type": "code",
   "execution_count": 7,
   "id": "734cdd45-aacf-465e-b5f0-f76547789260",
   "metadata": {},
   "outputs": [],
   "source": [
    "df_summary = DataFrame(summary_json['data'])\n",
    "df_summary_filtered = df_summary.loc[(df_summary['positionCode'] != 'D') & (df_summary['gamesPlayed'] >= 20)]\n",
    "df_summary_filtered = df_summary_filtered.reset_index(drop=True)\n",
    "df_summary_filtered.drop(['assists', 'evGoals', 'evPoints', 'faceoffWinPct', 'goals', 'penaltyMinutes', 'plusMinus', 'points', 'pointsPerGame', 'ppGoals', 'ppPoints', 'shPoints','shootingPct', 'shootsCatches', 'shots', 'timeOnIcePerGame', 'seasonId'], axis=1, inplace=True)\n",
    "df_summary_filtered = df_summary_filtered[['playerId', 'skaterFullName', 'lastName', 'positionCode', 'teamAbbrevs', 'gamesPlayed', 'gameWinningGoals','otGoals', 'shGoals']]"
   ]
  },
  {
   "cell_type": "code",
   "execution_count": 8,
   "id": "1c467934-7057-4843-9b18-49bb694d94e2",
   "metadata": {},
   "outputs": [
    {
     "data": {
      "text/html": [
       "<div>\n",
       "<style scoped>\n",
       "    .dataframe tbody tr th:only-of-type {\n",
       "        vertical-align: middle;\n",
       "    }\n",
       "\n",
       "    .dataframe tbody tr th {\n",
       "        vertical-align: top;\n",
       "    }\n",
       "\n",
       "    .dataframe thead th {\n",
       "        text-align: right;\n",
       "    }\n",
       "</style>\n",
       "<table border=\"1\" class=\"dataframe\">\n",
       "  <thead>\n",
       "    <tr style=\"text-align: right;\">\n",
       "      <th></th>\n",
       "      <th>playerId</th>\n",
       "      <th>skaterFullName</th>\n",
       "      <th>lastName</th>\n",
       "      <th>positionCode</th>\n",
       "      <th>teamAbbrevs</th>\n",
       "      <th>gamesPlayed</th>\n",
       "      <th>gameWinningGoals</th>\n",
       "      <th>otGoals</th>\n",
       "      <th>shGoals</th>\n",
       "    </tr>\n",
       "  </thead>\n",
       "  <tbody>\n",
       "    <tr>\n",
       "      <th>0</th>\n",
       "      <td>8480039</td>\n",
       "      <td>Martin Necas</td>\n",
       "      <td>Necas</td>\n",
       "      <td>C</td>\n",
       "      <td>CAR</td>\n",
       "      <td>82</td>\n",
       "      <td>3</td>\n",
       "      <td>2</td>\n",
       "      <td>0</td>\n",
       "    </tr>\n",
       "    <tr>\n",
       "      <th>1</th>\n",
       "      <td>8478028</td>\n",
       "      <td>Fredrik Olofsson</td>\n",
       "      <td>Olofsson</td>\n",
       "      <td>L</td>\n",
       "      <td>COL</td>\n",
       "      <td>57</td>\n",
       "      <td>1</td>\n",
       "      <td>0</td>\n",
       "      <td>0</td>\n",
       "    </tr>\n",
       "    <tr>\n",
       "      <th>2</th>\n",
       "      <td>8481624</td>\n",
       "      <td>Ilya Mikheyev</td>\n",
       "      <td>Mikheyev</td>\n",
       "      <td>R</td>\n",
       "      <td>VAN</td>\n",
       "      <td>82</td>\n",
       "      <td>1</td>\n",
       "      <td>0</td>\n",
       "      <td>0</td>\n",
       "    </tr>\n",
       "    <tr>\n",
       "      <th>3</th>\n",
       "      <td>8477508</td>\n",
       "      <td>Curtis Lazar</td>\n",
       "      <td>Lazar</td>\n",
       "      <td>C</td>\n",
       "      <td>NJD</td>\n",
       "      <td>71</td>\n",
       "      <td>2</td>\n",
       "      <td>0</td>\n",
       "      <td>1</td>\n",
       "    </tr>\n",
       "    <tr>\n",
       "      <th>4</th>\n",
       "      <td>8482062</td>\n",
       "      <td>Cole Smith</td>\n",
       "      <td>Smith</td>\n",
       "      <td>L</td>\n",
       "      <td>NSH</td>\n",
       "      <td>84</td>\n",
       "      <td>4</td>\n",
       "      <td>0</td>\n",
       "      <td>1</td>\n",
       "    </tr>\n",
       "    <tr>\n",
       "      <th>...</th>\n",
       "      <td>...</td>\n",
       "      <td>...</td>\n",
       "      <td>...</td>\n",
       "      <td>...</td>\n",
       "      <td>...</td>\n",
       "      <td>...</td>\n",
       "      <td>...</td>\n",
       "      <td>...</td>\n",
       "      <td>...</td>\n",
       "    </tr>\n",
       "    <tr>\n",
       "      <th>467</th>\n",
       "      <td>8477940</td>\n",
       "      <td>Nikolaj Ehlers</td>\n",
       "      <td>Ehlers</td>\n",
       "      <td>L</td>\n",
       "      <td>WPG</td>\n",
       "      <td>86</td>\n",
       "      <td>7</td>\n",
       "      <td>1</td>\n",
       "      <td>0</td>\n",
       "    </tr>\n",
       "    <tr>\n",
       "      <th>468</th>\n",
       "      <td>8480007</td>\n",
       "      <td>Jonas Rondbjerg</td>\n",
       "      <td>Rondbjerg</td>\n",
       "      <td>R</td>\n",
       "      <td>VGK</td>\n",
       "      <td>20</td>\n",
       "      <td>0</td>\n",
       "      <td>0</td>\n",
       "      <td>0</td>\n",
       "    </tr>\n",
       "    <tr>\n",
       "      <th>469</th>\n",
       "      <td>8479981</td>\n",
       "      <td>Jonah Gadjovich</td>\n",
       "      <td>Gadjovich</td>\n",
       "      <td>L</td>\n",
       "      <td>FLA</td>\n",
       "      <td>39</td>\n",
       "      <td>0</td>\n",
       "      <td>0</td>\n",
       "      <td>0</td>\n",
       "    </tr>\n",
       "    <tr>\n",
       "      <th>470</th>\n",
       "      <td>8482125</td>\n",
       "      <td>Alexander Holtz</td>\n",
       "      <td>Holtz</td>\n",
       "      <td>R</td>\n",
       "      <td>NJD</td>\n",
       "      <td>82</td>\n",
       "      <td>3</td>\n",
       "      <td>0</td>\n",
       "      <td>0</td>\n",
       "    </tr>\n",
       "    <tr>\n",
       "      <th>471</th>\n",
       "      <td>8482157</td>\n",
       "      <td>Will Cuylle</td>\n",
       "      <td>Cuylle</td>\n",
       "      <td>L</td>\n",
       "      <td>NYR</td>\n",
       "      <td>85</td>\n",
       "      <td>2</td>\n",
       "      <td>0</td>\n",
       "      <td>0</td>\n",
       "    </tr>\n",
       "  </tbody>\n",
       "</table>\n",
       "<p>472 rows × 9 columns</p>\n",
       "</div>"
      ],
      "text/plain": [
       "     playerId    skaterFullName   lastName positionCode teamAbbrevs  \\\n",
       "0     8480039      Martin Necas      Necas            C         CAR   \n",
       "1     8478028  Fredrik Olofsson   Olofsson            L         COL   \n",
       "2     8481624     Ilya Mikheyev   Mikheyev            R         VAN   \n",
       "3     8477508      Curtis Lazar      Lazar            C         NJD   \n",
       "4     8482062        Cole Smith      Smith            L         NSH   \n",
       "..        ...               ...        ...          ...         ...   \n",
       "467   8477940    Nikolaj Ehlers     Ehlers            L         WPG   \n",
       "468   8480007   Jonas Rondbjerg  Rondbjerg            R         VGK   \n",
       "469   8479981   Jonah Gadjovich  Gadjovich            L         FLA   \n",
       "470   8482125   Alexander Holtz      Holtz            R         NJD   \n",
       "471   8482157       Will Cuylle     Cuylle            L         NYR   \n",
       "\n",
       "     gamesPlayed  gameWinningGoals  otGoals  shGoals  \n",
       "0             82                 3        2        0  \n",
       "1             57                 1        0        0  \n",
       "2             82                 1        0        0  \n",
       "3             71                 2        0        1  \n",
       "4             84                 4        0        1  \n",
       "..           ...               ...      ...      ...  \n",
       "467           86                 7        1        0  \n",
       "468           20                 0        0        0  \n",
       "469           39                 0        0        0  \n",
       "470           82                 3        0        0  \n",
       "471           85                 2        0        0  \n",
       "\n",
       "[472 rows x 9 columns]"
      ]
     },
     "execution_count": 8,
     "metadata": {},
     "output_type": "execute_result"
    }
   ],
   "source": [
    "df_summary_filtered"
   ]
  },
  {
   "cell_type": "code",
   "execution_count": 9,
   "id": "e1102eb7-0bc3-4c2c-9d61-14da618b6a60",
   "metadata": {},
   "outputs": [],
   "source": [
    "df_players_merged = pd.merge(df_percentages_filtered, df_summary_filtered, on = 'playerId')\n",
    "df_players_merged.drop(['skaterFullName_y', 'lastName_y', 'positionCode_y', 'teamAbbrevs_y', 'gamesPlayed_y'], axis=1, inplace=True)\n",
    "df_players_merged.columns = ['playerId', 'skaterFullName', 'lastName', 'positionCode', 'teamAbbrevs', 'gamesPlayed', 'shootsCatches', 'satPercentageClose', 'satPercentageTied','usatPercentageTied', 'usatPercentageClose', 'gameWinningGoals', 'otGoals', 'shGoals']\n",
    "df_players_merged = df_players_merged[['playerId', 'skaterFullName', 'lastName', 'positionCode', 'teamAbbrevs', 'gamesPlayed', 'shootsCatches', 'satPercentageClose', 'satPercentageTied','usatPercentageTied', 'usatPercentageClose', 'gameWinningGoals', 'otGoals', 'shGoals']]"
   ]
  },
  {
   "cell_type": "code",
   "execution_count": 10,
   "id": "953e6439-35ac-46eb-9dcd-183fe5effd59",
   "metadata": {},
   "outputs": [],
   "source": [
    "percentages  = ['satPercentageClose', 'satPercentageTied','usatPercentageTied', 'usatPercentageClose']\n",
    "\n",
    "for stat in percentages:\n",
    "    df_players_merged[stat] *= 100\n",
    "\n",
    "df_players_merged['teamAbbrevs'] = df_players_merged['teamAbbrevs'].apply(lambda x: x.split(',')[0].strip() if ',' in x else x)"
   ]
  },
  {
   "cell_type": "code",
   "execution_count": 11,
   "id": "e12aedd4-0076-4a67-9305-0380d7a811ca",
   "metadata": {},
   "outputs": [
    {
     "data": {
      "text/html": [
       "<div>\n",
       "<style scoped>\n",
       "    .dataframe tbody tr th:only-of-type {\n",
       "        vertical-align: middle;\n",
       "    }\n",
       "\n",
       "    .dataframe tbody tr th {\n",
       "        vertical-align: top;\n",
       "    }\n",
       "\n",
       "    .dataframe thead th {\n",
       "        text-align: right;\n",
       "    }\n",
       "</style>\n",
       "<table border=\"1\" class=\"dataframe\">\n",
       "  <thead>\n",
       "    <tr style=\"text-align: right;\">\n",
       "      <th></th>\n",
       "      <th>playerId</th>\n",
       "      <th>skaterFullName</th>\n",
       "      <th>lastName</th>\n",
       "      <th>positionCode</th>\n",
       "      <th>teamAbbrevs</th>\n",
       "      <th>gamesPlayed</th>\n",
       "      <th>shootsCatches</th>\n",
       "      <th>satPercentageClose</th>\n",
       "      <th>satPercentageTied</th>\n",
       "      <th>usatPercentageTied</th>\n",
       "      <th>usatPercentageClose</th>\n",
       "      <th>gameWinningGoals</th>\n",
       "      <th>otGoals</th>\n",
       "      <th>shGoals</th>\n",
       "    </tr>\n",
       "  </thead>\n",
       "  <tbody>\n",
       "    <tr>\n",
       "      <th>0</th>\n",
       "      <td>8478028</td>\n",
       "      <td>Fredrik Olofsson</td>\n",
       "      <td>Olofsson</td>\n",
       "      <td>L</td>\n",
       "      <td>COL</td>\n",
       "      <td>57</td>\n",
       "      <td>L</td>\n",
       "      <td>45.6</td>\n",
       "      <td>42.8</td>\n",
       "      <td>40.1</td>\n",
       "      <td>43.6</td>\n",
       "      <td>1</td>\n",
       "      <td>0</td>\n",
       "      <td>0</td>\n",
       "    </tr>\n",
       "    <tr>\n",
       "      <th>1</th>\n",
       "      <td>8480039</td>\n",
       "      <td>Martin Necas</td>\n",
       "      <td>Necas</td>\n",
       "      <td>C</td>\n",
       "      <td>CAR</td>\n",
       "      <td>82</td>\n",
       "      <td>R</td>\n",
       "      <td>61.0</td>\n",
       "      <td>62.1</td>\n",
       "      <td>60.1</td>\n",
       "      <td>59.7</td>\n",
       "      <td>3</td>\n",
       "      <td>2</td>\n",
       "      <td>0</td>\n",
       "    </tr>\n",
       "    <tr>\n",
       "      <th>2</th>\n",
       "      <td>8481601</td>\n",
       "      <td>Simon Holmstrom</td>\n",
       "      <td>Holmstrom</td>\n",
       "      <td>R</td>\n",
       "      <td>NYI</td>\n",
       "      <td>78</td>\n",
       "      <td>L</td>\n",
       "      <td>43.4</td>\n",
       "      <td>44.1</td>\n",
       "      <td>43.8</td>\n",
       "      <td>43.5</td>\n",
       "      <td>3</td>\n",
       "      <td>0</td>\n",
       "      <td>5</td>\n",
       "    </tr>\n",
       "    <tr>\n",
       "      <th>3</th>\n",
       "      <td>8477402</td>\n",
       "      <td>Pavel Buchnevich</td>\n",
       "      <td>Buchnevich</td>\n",
       "      <td>L</td>\n",
       "      <td>STL</td>\n",
       "      <td>80</td>\n",
       "      <td>L</td>\n",
       "      <td>50.9</td>\n",
       "      <td>50.3</td>\n",
       "      <td>48.7</td>\n",
       "      <td>49.0</td>\n",
       "      <td>5</td>\n",
       "      <td>2</td>\n",
       "      <td>2</td>\n",
       "    </tr>\n",
       "    <tr>\n",
       "      <th>4</th>\n",
       "      <td>8477989</td>\n",
       "      <td>Christian Dvorak</td>\n",
       "      <td>Dvorak</td>\n",
       "      <td>C</td>\n",
       "      <td>MTL</td>\n",
       "      <td>30</td>\n",
       "      <td>L</td>\n",
       "      <td>46.3</td>\n",
       "      <td>44.2</td>\n",
       "      <td>42.5</td>\n",
       "      <td>46.6</td>\n",
       "      <td>0</td>\n",
       "      <td>0</td>\n",
       "      <td>0</td>\n",
       "    </tr>\n",
       "    <tr>\n",
       "      <th>...</th>\n",
       "      <td>...</td>\n",
       "      <td>...</td>\n",
       "      <td>...</td>\n",
       "      <td>...</td>\n",
       "      <td>...</td>\n",
       "      <td>...</td>\n",
       "      <td>...</td>\n",
       "      <td>...</td>\n",
       "      <td>...</td>\n",
       "      <td>...</td>\n",
       "      <td>...</td>\n",
       "      <td>...</td>\n",
       "      <td>...</td>\n",
       "      <td>...</td>\n",
       "    </tr>\n",
       "    <tr>\n",
       "      <th>467</th>\n",
       "      <td>8477940</td>\n",
       "      <td>Nikolaj Ehlers</td>\n",
       "      <td>Ehlers</td>\n",
       "      <td>L</td>\n",
       "      <td>WPG</td>\n",
       "      <td>86</td>\n",
       "      <td>L</td>\n",
       "      <td>54.2</td>\n",
       "      <td>56.7</td>\n",
       "      <td>56.4</td>\n",
       "      <td>54.3</td>\n",
       "      <td>7</td>\n",
       "      <td>1</td>\n",
       "      <td>0</td>\n",
       "    </tr>\n",
       "    <tr>\n",
       "      <th>468</th>\n",
       "      <td>8480007</td>\n",
       "      <td>Jonas Rondbjerg</td>\n",
       "      <td>Rondbjerg</td>\n",
       "      <td>R</td>\n",
       "      <td>VGK</td>\n",
       "      <td>20</td>\n",
       "      <td>L</td>\n",
       "      <td>43.3</td>\n",
       "      <td>41.9</td>\n",
       "      <td>40.5</td>\n",
       "      <td>41.4</td>\n",
       "      <td>0</td>\n",
       "      <td>0</td>\n",
       "      <td>0</td>\n",
       "    </tr>\n",
       "    <tr>\n",
       "      <th>469</th>\n",
       "      <td>8479981</td>\n",
       "      <td>Jonah Gadjovich</td>\n",
       "      <td>Gadjovich</td>\n",
       "      <td>L</td>\n",
       "      <td>FLA</td>\n",
       "      <td>39</td>\n",
       "      <td>L</td>\n",
       "      <td>50.1</td>\n",
       "      <td>54.6</td>\n",
       "      <td>51.5</td>\n",
       "      <td>48.4</td>\n",
       "      <td>0</td>\n",
       "      <td>0</td>\n",
       "      <td>0</td>\n",
       "    </tr>\n",
       "    <tr>\n",
       "      <th>470</th>\n",
       "      <td>8482125</td>\n",
       "      <td>Alexander Holtz</td>\n",
       "      <td>Holtz</td>\n",
       "      <td>R</td>\n",
       "      <td>NJD</td>\n",
       "      <td>82</td>\n",
       "      <td>R</td>\n",
       "      <td>47.5</td>\n",
       "      <td>45.8</td>\n",
       "      <td>43.7</td>\n",
       "      <td>45.6</td>\n",
       "      <td>3</td>\n",
       "      <td>0</td>\n",
       "      <td>0</td>\n",
       "    </tr>\n",
       "    <tr>\n",
       "      <th>471</th>\n",
       "      <td>8482157</td>\n",
       "      <td>Will Cuylle</td>\n",
       "      <td>Cuylle</td>\n",
       "      <td>L</td>\n",
       "      <td>NYR</td>\n",
       "      <td>85</td>\n",
       "      <td>L</td>\n",
       "      <td>49.2</td>\n",
       "      <td>51.0</td>\n",
       "      <td>54.3</td>\n",
       "      <td>51.2</td>\n",
       "      <td>2</td>\n",
       "      <td>0</td>\n",
       "      <td>0</td>\n",
       "    </tr>\n",
       "  </tbody>\n",
       "</table>\n",
       "<p>472 rows × 14 columns</p>\n",
       "</div>"
      ],
      "text/plain": [
       "     playerId    skaterFullName    lastName positionCode teamAbbrevs  \\\n",
       "0     8478028  Fredrik Olofsson    Olofsson            L         COL   \n",
       "1     8480039      Martin Necas       Necas            C         CAR   \n",
       "2     8481601   Simon Holmstrom   Holmstrom            R         NYI   \n",
       "3     8477402  Pavel Buchnevich  Buchnevich            L         STL   \n",
       "4     8477989  Christian Dvorak      Dvorak            C         MTL   \n",
       "..        ...               ...         ...          ...         ...   \n",
       "467   8477940    Nikolaj Ehlers      Ehlers            L         WPG   \n",
       "468   8480007   Jonas Rondbjerg   Rondbjerg            R         VGK   \n",
       "469   8479981   Jonah Gadjovich   Gadjovich            L         FLA   \n",
       "470   8482125   Alexander Holtz       Holtz            R         NJD   \n",
       "471   8482157       Will Cuylle      Cuylle            L         NYR   \n",
       "\n",
       "     gamesPlayed shootsCatches  satPercentageClose  satPercentageTied  \\\n",
       "0             57             L                45.6               42.8   \n",
       "1             82             R                61.0               62.1   \n",
       "2             78             L                43.4               44.1   \n",
       "3             80             L                50.9               50.3   \n",
       "4             30             L                46.3               44.2   \n",
       "..           ...           ...                 ...                ...   \n",
       "467           86             L                54.2               56.7   \n",
       "468           20             L                43.3               41.9   \n",
       "469           39             L                50.1               54.6   \n",
       "470           82             R                47.5               45.8   \n",
       "471           85             L                49.2               51.0   \n",
       "\n",
       "     usatPercentageTied  usatPercentageClose  gameWinningGoals  otGoals  \\\n",
       "0                  40.1                 43.6                 1        0   \n",
       "1                  60.1                 59.7                 3        2   \n",
       "2                  43.8                 43.5                 3        0   \n",
       "3                  48.7                 49.0                 5        2   \n",
       "4                  42.5                 46.6                 0        0   \n",
       "..                  ...                  ...               ...      ...   \n",
       "467                56.4                 54.3                 7        1   \n",
       "468                40.5                 41.4                 0        0   \n",
       "469                51.5                 48.4                 0        0   \n",
       "470                43.7                 45.6                 3        0   \n",
       "471                54.3                 51.2                 2        0   \n",
       "\n",
       "     shGoals  \n",
       "0          0  \n",
       "1          0  \n",
       "2          5  \n",
       "3          2  \n",
       "4          0  \n",
       "..       ...  \n",
       "467        0  \n",
       "468        0  \n",
       "469        0  \n",
       "470        0  \n",
       "471        0  \n",
       "\n",
       "[472 rows x 14 columns]"
      ]
     },
     "execution_count": 11,
     "metadata": {},
     "output_type": "execute_result"
    }
   ],
   "source": [
    "df_players_merged"
   ]
  },
  {
   "cell_type": "code",
   "execution_count": 12,
   "id": "679e0115-11ae-4adb-abcd-6d20e25f40f0",
   "metadata": {},
   "outputs": [
    {
     "data": {
      "text/html": [
       "<div>\n",
       "<style scoped>\n",
       "    .dataframe tbody tr th:only-of-type {\n",
       "        vertical-align: middle;\n",
       "    }\n",
       "\n",
       "    .dataframe tbody tr th {\n",
       "        vertical-align: top;\n",
       "    }\n",
       "\n",
       "    .dataframe thead th {\n",
       "        text-align: right;\n",
       "    }\n",
       "</style>\n",
       "<table border=\"1\" class=\"dataframe\">\n",
       "  <thead>\n",
       "    <tr style=\"text-align: right;\">\n",
       "      <th></th>\n",
       "      <th>satPercentageClose</th>\n",
       "      <th>satPercentageTied</th>\n",
       "      <th>usatPercentageTied</th>\n",
       "      <th>usatPercentageClose</th>\n",
       "    </tr>\n",
       "  </thead>\n",
       "  <tbody>\n",
       "    <tr>\n",
       "      <th>count</th>\n",
       "      <td>472.000000</td>\n",
       "      <td>472.000000</td>\n",
       "      <td>472.000000</td>\n",
       "      <td>472.000000</td>\n",
       "    </tr>\n",
       "    <tr>\n",
       "      <th>mean</th>\n",
       "      <td>49.335593</td>\n",
       "      <td>49.379025</td>\n",
       "      <td>49.443432</td>\n",
       "      <td>49.353602</td>\n",
       "    </tr>\n",
       "    <tr>\n",
       "      <th>std</th>\n",
       "      <td>4.826630</td>\n",
       "      <td>5.287188</td>\n",
       "      <td>5.432375</td>\n",
       "      <td>4.916715</td>\n",
       "    </tr>\n",
       "    <tr>\n",
       "      <th>min</th>\n",
       "      <td>35.700000</td>\n",
       "      <td>34.100000</td>\n",
       "      <td>34.700000</td>\n",
       "      <td>34.400000</td>\n",
       "    </tr>\n",
       "    <tr>\n",
       "      <th>50%</th>\n",
       "      <td>49.800000</td>\n",
       "      <td>49.700000</td>\n",
       "      <td>49.600000</td>\n",
       "      <td>49.700000</td>\n",
       "    </tr>\n",
       "    <tr>\n",
       "      <th>75%</th>\n",
       "      <td>52.525000</td>\n",
       "      <td>52.900000</td>\n",
       "      <td>53.325000</td>\n",
       "      <td>52.700000</td>\n",
       "    </tr>\n",
       "    <tr>\n",
       "      <th>80%</th>\n",
       "      <td>53.080000</td>\n",
       "      <td>53.780000</td>\n",
       "      <td>54.300000</td>\n",
       "      <td>53.380000</td>\n",
       "    </tr>\n",
       "    <tr>\n",
       "      <th>90%</th>\n",
       "      <td>55.300000</td>\n",
       "      <td>56.190000</td>\n",
       "      <td>56.290000</td>\n",
       "      <td>55.000000</td>\n",
       "    </tr>\n",
       "    <tr>\n",
       "      <th>max</th>\n",
       "      <td>62.300000</td>\n",
       "      <td>62.100000</td>\n",
       "      <td>63.200000</td>\n",
       "      <td>61.600000</td>\n",
       "    </tr>\n",
       "  </tbody>\n",
       "</table>\n",
       "</div>"
      ],
      "text/plain": [
       "       satPercentageClose  satPercentageTied  usatPercentageTied  \\\n",
       "count          472.000000         472.000000          472.000000   \n",
       "mean            49.335593          49.379025           49.443432   \n",
       "std              4.826630           5.287188            5.432375   \n",
       "min             35.700000          34.100000           34.700000   \n",
       "50%             49.800000          49.700000           49.600000   \n",
       "75%             52.525000          52.900000           53.325000   \n",
       "80%             53.080000          53.780000           54.300000   \n",
       "90%             55.300000          56.190000           56.290000   \n",
       "max             62.300000          62.100000           63.200000   \n",
       "\n",
       "       usatPercentageClose  \n",
       "count           472.000000  \n",
       "mean             49.353602  \n",
       "std               4.916715  \n",
       "min              34.400000  \n",
       "50%              49.700000  \n",
       "75%              52.700000  \n",
       "80%              53.380000  \n",
       "90%              55.000000  \n",
       "max              61.600000  "
      ]
     },
     "execution_count": 12,
     "metadata": {},
     "output_type": "execute_result"
    }
   ],
   "source": [
    "df_players_merged[['satPercentageClose', 'satPercentageTied', 'usatPercentageTied', 'usatPercentageClose']].describe(percentiles=[0.75, 0.8, 0.9])"
   ]
  },
  {
   "cell_type": "code",
   "execution_count": 13,
   "id": "322f76c3-d0ea-475d-9512-64fc910a4b2c",
   "metadata": {},
   "outputs": [
    {
     "data": {
      "text/plain": [
       "<seaborn.axisgrid.FacetGrid at 0x1f367986dd0>"
      ]
     },
     "execution_count": 13,
     "metadata": {},
     "output_type": "execute_result"
    },
    {
     "data": {
      "image/png": "[encoded data removed]",
      "text/plain": [
       "<Figure size 300x300 with 1 Axes>"
      ]
     },
     "metadata": {},
     "output_type": "display_data"
    },
    {
     "data": {
      "image/png": "[encoded data removed]",
      "text/plain": [
       "<Figure size 300x300 with 1 Axes>"
      ]
     },
     "metadata": {},
     "output_type": "display_data"
    },
    {
     "data": {
      "image/png": "[encoded data removed]",
      "text/plain": [
       "<Figure size 300x300 with 1 Axes>"
      ]
     },
     "metadata": {},
     "output_type": "display_data"
    },
    {
     "data": {
      "image/png": "[encoded data removed]",
      "text/plain": [
       "<Figure size 300x300 with 1 Axes>"
      ]
     },
     "metadata": {},
     "output_type": "display_data"
    }
   ],
   "source": [
    "satClose = sns.FacetGrid(df_players_merged).map(sns.kdeplot, 'satPercentageClose', fill=True, color='red')\n",
    "satClose.fig.suptitle(\"Distribution of SAT% Close\", y = 1.05)\n",
    "satClose.set_xlabels(\"SAT% Close\")\n",
    "\n",
    "satTied = sns.FacetGrid(df_players_merged).map(sns.kdeplot, 'satPercentageTied', fill=True, color='blue')\n",
    "satTied.fig.suptitle(\"Distribution of SAT% Tied\", y = 1.05)\n",
    "satTied.set_xlabels(\"SAT% Tied\")\n",
    "\n",
    "usatClose = sns.FacetGrid(df_players_merged).map(sns.kdeplot, 'usatPercentageClose', fill=True, color='red')\n",
    "usatClose.fig.suptitle(\"Distribution of USAT% Close\", y = 1.05)\n",
    "usatClose.set_xlabels(\"USAT% Close\")\n",
    "\n",
    "usatTied = sns.FacetGrid(df_players_merged).map(sns.kdeplot, 'usatPercentageTied', fill=True, color='blue')\n",
    "usatTied.fig.suptitle(\"Distribution of USAT% Tied\", y = 1.05)\n",
    "usatTied.set_xlabels(\"USAT% Tied\")"
   ]
  },
  {
   "cell_type": "code",
   "execution_count": 14,
   "id": "48555fd8-5a9c-4a76-927b-1d39253add00",
   "metadata": {},
   "outputs": [
    {
     "data": {
      "text/html": [
       "<div>\n",
       "<style scoped>\n",
       "    .dataframe tbody tr th:only-of-type {\n",
       "        vertical-align: middle;\n",
       "    }\n",
       "\n",
       "    .dataframe tbody tr th {\n",
       "        vertical-align: top;\n",
       "    }\n",
       "\n",
       "    .dataframe thead th {\n",
       "        text-align: right;\n",
       "    }\n",
       "</style>\n",
       "<table border=\"1\" class=\"dataframe\">\n",
       "  <thead>\n",
       "    <tr style=\"text-align: right;\">\n",
       "      <th></th>\n",
       "      <th>gameWinningGoals</th>\n",
       "      <th>otGoals</th>\n",
       "      <th>shGoals</th>\n",
       "    </tr>\n",
       "  </thead>\n",
       "  <tbody>\n",
       "    <tr>\n",
       "      <th>count</th>\n",
       "      <td>472.000000</td>\n",
       "      <td>472.000000</td>\n",
       "      <td>472.000000</td>\n",
       "    </tr>\n",
       "    <tr>\n",
       "      <th>mean</th>\n",
       "      <td>2.228814</td>\n",
       "      <td>0.319915</td>\n",
       "      <td>0.449153</td>\n",
       "    </tr>\n",
       "    <tr>\n",
       "      <th>std</th>\n",
       "      <td>2.328303</td>\n",
       "      <td>0.678284</td>\n",
       "      <td>0.848102</td>\n",
       "    </tr>\n",
       "    <tr>\n",
       "      <th>min</th>\n",
       "      <td>0.000000</td>\n",
       "      <td>0.000000</td>\n",
       "      <td>0.000000</td>\n",
       "    </tr>\n",
       "    <tr>\n",
       "      <th>50%</th>\n",
       "      <td>2.000000</td>\n",
       "      <td>0.000000</td>\n",
       "      <td>0.000000</td>\n",
       "    </tr>\n",
       "    <tr>\n",
       "      <th>75%</th>\n",
       "      <td>3.000000</td>\n",
       "      <td>0.000000</td>\n",
       "      <td>1.000000</td>\n",
       "    </tr>\n",
       "    <tr>\n",
       "      <th>80%</th>\n",
       "      <td>4.000000</td>\n",
       "      <td>1.000000</td>\n",
       "      <td>1.000000</td>\n",
       "    </tr>\n",
       "    <tr>\n",
       "      <th>90%</th>\n",
       "      <td>5.000000</td>\n",
       "      <td>1.000000</td>\n",
       "      <td>2.000000</td>\n",
       "    </tr>\n",
       "    <tr>\n",
       "      <th>max</th>\n",
       "      <td>12.000000</td>\n",
       "      <td>3.000000</td>\n",
       "      <td>6.000000</td>\n",
       "    </tr>\n",
       "  </tbody>\n",
       "</table>\n",
       "</div>"
      ],
      "text/plain": [
       "       gameWinningGoals     otGoals     shGoals\n",
       "count        472.000000  472.000000  472.000000\n",
       "mean           2.228814    0.319915    0.449153\n",
       "std            2.328303    0.678284    0.848102\n",
       "min            0.000000    0.000000    0.000000\n",
       "50%            2.000000    0.000000    0.000000\n",
       "75%            3.000000    0.000000    1.000000\n",
       "80%            4.000000    1.000000    1.000000\n",
       "90%            5.000000    1.000000    2.000000\n",
       "max           12.000000    3.000000    6.000000"
      ]
     },
     "execution_count": 14,
     "metadata": {},
     "output_type": "execute_result"
    }
   ],
   "source": [
    "df_players_merged[['gameWinningGoals', 'otGoals', 'shGoals']].describe(percentiles=[0.75, 0.8, 0.9])"
   ]
  },
  {
   "cell_type": "code",
   "execution_count": 15,
   "id": "0a238f3d-98d1-43fb-b37a-43f1df7f130e",
   "metadata": {},
   "outputs": [
    {
     "data": {
      "text/plain": [
       "<seaborn.axisgrid.FacetGrid at 0x1f3677b0350>"
      ]
     },
     "execution_count": 15,
     "metadata": {},
     "output_type": "execute_result"
    },
    {
     "data": {
      "image/png": "[encoded data removed]",
      "text/plain": [
       "<Figure size 300x300 with 1 Axes>"
      ]
     },
     "metadata": {},
     "output_type": "display_data"
    },
    {
     "data": {
      "image/png": "[encoded data removed]",
      "text/plain": [
       "<Figure size 300x300 with 1 Axes>"
      ]
     },
     "metadata": {},
     "output_type": "display_data"
    },
    {
     "data": {
      "image/png": "[encoded data removed]",
      "text/plain": [
       "<Figure size 300x300 with 1 Axes>"
      ]
     },
     "metadata": {},
     "output_type": "display_data"
    }
   ],
   "source": [
    "satClose = sns.FacetGrid(df_players_merged).map(sns.kdeplot, 'gameWinningGoals', fill=True, color='green')\n",
    "satClose.fig.suptitle(\"Distribution of Game Winning Goals\", y = 1.05)\n",
    "satClose.set_xlabels(\"Game Winning Goals\")\n",
    "\n",
    "satTied = sns.FacetGrid(df_players_merged).map(sns.kdeplot, 'otGoals', fill=True, color='blue')\n",
    "satTied.fig.suptitle(\"Distribution of OT Goals\", y = 1.05)\n",
    "satTied.set_xlabels(\"OT Goals\")\n",
    "\n",
    "usatClose = sns.FacetGrid(df_players_merged).map(sns.kdeplot, 'shGoals', fill=True, color='red')\n",
    "usatClose.fig.suptitle(\"Distribution of Shorthanded Goals\", y = 1.05)\n",
    "usatClose.set_xlabels(\"Shorthanded Goals\")"
   ]
  },
  {
   "cell_type": "code",
   "execution_count": 16,
   "id": "d422e0e6-57e6-45bb-9020-868c99e722db",
   "metadata": {},
   "outputs": [],
   "source": [
    "satCloseMax = df_players_merged['satPercentageClose'].max()\n",
    "satTiedMax = df_players_merged['satPercentageTied'].max()\n",
    "usatCloseMax = df_players_merged['usatPercentageClose'].max()\n",
    "usatTiedMax = df_players_merged['usatPercentageTied'].max()\n",
    "usatTiedMax = df_players_merged['usatPercentageTied'].max()\n",
    "\n",
    "\n",
    "def percentile_update(row): \n",
    "    return "
   ]
  },
  {
   "cell_type": "code",
   "execution_count": 218,
   "id": "5accde87-0f20-451e-bd78-d94a9520fcca",
   "metadata": {},
   "outputs": [],
   "source": [
    "satCloseQuantile = df_players_merged['satPercentageClose'].quantile(0.9)\n",
    "satTiedQuantile = df_players_merged['satPercentageTied'].quantile(0.9)\n",
    "usatCloseQuantile = df_players_merged['usatPercentageClose'].quantile(0.9)\n",
    "usatTiedQuantile = df_players_merged['usatPercentageTied'].quantile(0.9)\n",
    "gameWinningGoalsQuantile = df_players_merged['gameWinningGoals'].quantile(0.8)\n",
    "\n",
    "def binary_clutchness(row):\n",
    "    clutchness = (row['satPercentageClose'] >= satCloseQuantile) or (row['satPercentageTied'] >= satTiedQuantile) or (row['usatPercentageClose'] >= usatCloseQuantile) or (row['usatPercentageTied'] >= usatTiedQuantile) and (row['gameWinningGoals'] >= gameWinningGoalsQuantile)\n",
    "    if clutchness:\n",
    "        return 1\n",
    "    else:\n",
    "        return 0\n",
    "        \n",
    "df_players_merged['clutch_performance'] = df_players_merged.apply(binary_clutchness, axis=1)"
   ]
  },
  {
   "cell_type": "code",
   "execution_count": 219,
   "id": "2ad9b0fd-c468-4336-8a29-b2941af45c28",
   "metadata": {},
   "outputs": [
    {
     "data": {
      "text/plain": [
       "clutch_performance\n",
       "0    401\n",
       "1     71\n",
       "Name: count, dtype: int64"
      ]
     },
     "execution_count": 219,
     "metadata": {},
     "output_type": "execute_result"
    }
   ],
   "source": [
    "df_players_merged['clutch_performance'].value_counts()"
   ]
  },
  {
   "cell_type": "code",
   "execution_count": 247,
   "id": "7bd3f17c-1000-4958-99e1-22052c05cfce",
   "metadata": {},
   "outputs": [
    {
     "data": {
      "text/plain": [
       "0.9819277108433735"
      ]
     },
     "execution_count": 247,
     "metadata": {},
     "output_type": "execute_result"
    }
   ],
   "source": [
    "x_var = ['usatPercentageClose', 'usatPercentageTied', 'satPercentageClose', 'satPercentageTied', 'gameWinningGoals']\n",
    "y_var = ['clutch_performance']\n",
    "train, test = train_test_split(df_players_merged, test_size = 0.35)\n",
    "model = RandomForestClassifier(n_estimators=100)\n",
    "model.fit(train[x_var], train[y_var].values.ravel())\n",
    "\n",
    "test['clutch_type'] = model.predict(test[x_var])\n",
    "test['correct'] = (test['clutch_type'] == test['clutch_performance'])\n",
    "\n",
    "test['correct'].mean()"
   ]
  },
  {
   "cell_type": "code",
   "execution_count": 248,
   "id": "8dbf7f1c-e04e-47e4-917f-e08918573357",
   "metadata": {},
   "outputs": [
    {
     "data": {
      "text/plain": [
       "array([1.        , 1.        , 1.        , 1.        , 0.95744681,\n",
       "       0.95744681, 1.        , 0.9787234 , 1.        , 1.        ])"
      ]
     },
     "execution_count": 248,
     "metadata": {},
     "output_type": "execute_result"
    }
   ],
   "source": [
    "scores = cross_val_score(model, df_players_merged[x_var], df_players_merged[y_var].values.ravel(), cv=10)\n",
    "scores"
   ]
  },
  {
   "cell_type": "code",
   "execution_count": 249,
   "id": "90040a7a-4221-41bb-ba48-eb3ce664bc08",
   "metadata": {},
   "outputs": [
    {
     "data": {
      "text/plain": [
       "0.9893617021276595"
      ]
     },
     "execution_count": 249,
     "metadata": {},
     "output_type": "execute_result"
    }
   ],
   "source": [
    "scores.mean()"
   ]
  },
  {
   "cell_type": "code",
   "execution_count": 250,
   "id": "3b2a19da-7f77-4eb9-834e-57797328a891",
   "metadata": {},
   "outputs": [
    {
     "data": {
      "text/plain": [
       "0.9994824016563146"
      ]
     },
     "execution_count": 250,
     "metadata": {},
     "output_type": "execute_result"
    }
   ],
   "source": [
    "probs = model.predict_proba(test[x_var])[:, 1]\n",
    "\n",
    "roc_auc = roc_auc_score(test[y_var], probs)\n",
    "\n",
    "roc_auc"
   ]
  },
  {
   "cell_type": "code",
   "execution_count": 251,
   "id": "a364cb45-15c9-4868-aadc-120bc72e19cc",
   "metadata": {},
   "outputs": [
    {
     "name": "stdout",
     "output_type": "stream",
     "text": [
      "Precision: 1.0\n",
      "Recall: 0.8928571428571429\n",
      "F1 Score: 0.9433962264150945\n"
     ]
    }
   ],
   "source": [
    "y_pred = model.predict(test[x_var])  \n",
    "y_true = test[y_var]\n",
    "\n",
    "precision = precision_score(y_true, y_pred)\n",
    "recall = recall_score(y_true, y_pred)\n",
    "f1 = f1_score(y_true, y_pred)\n",
    "\n",
    "print(\"Precision:\", precision)\n",
    "print(\"Recall:\", recall)\n",
    "print(\"F1 Score:\", f1)"
   ]
  },
  {
   "cell_type": "code",
   "execution_count": 252,
   "id": "70d06a5c-45f5-4276-abdc-ba15b96965c2",
   "metadata": {},
   "outputs": [
    {
     "data": {
      "text/plain": [
       "0.9976190476190476"
      ]
     },
     "execution_count": 252,
     "metadata": {},
     "output_type": "execute_result"
    }
   ],
   "source": [
    "probs = model.predict_proba(test[x_var])[:, 1]\n",
    "\n",
    "auc_pr = average_precision_score(test[y_var], probs)\n",
    "\n",
    "auc_pr"
   ]
  },
  {
   "cell_type": "code",
   "execution_count": 253,
   "id": "60030eb2-68da-46b9-8dc2-f2c3c512fc88",
   "metadata": {},
   "outputs": [
    {
     "data": {
      "text/plain": [
       "0.9348048900015558"
      ]
     },
     "execution_count": 253,
     "metadata": {},
     "output_type": "execute_result"
    }
   ],
   "source": [
    "predicted_classes = model.predict(test[x_var])\n",
    "mcc = matthews_corrcoef(y_true, predicted_classes)\n",
    "mcc"
   ]
  },
  {
   "cell_type": "code",
   "execution_count": 254,
   "id": "cc355e17-46d4-44c0-a09e-29f1564aa926",
   "metadata": {},
   "outputs": [
    {
     "data": {
      "text/plain": [
       "<Axes: >"
      ]
     },
     "execution_count": 254,
     "metadata": {},
     "output_type": "execute_result"
    },
    {
     "data": {
      "image/png": "[encoded data removed]",
      "text/plain": [
       "<Figure size 640x480 with 2 Axes>"
      ]
     },
     "metadata": {},
     "output_type": "display_data"
    }
   ],
   "source": [
    "conf_matrix = confusion_matrix(y_true, y_pred, normalize=\"all\")\n",
    "\n",
    "conf_matrix\n",
    "\n",
    "sns.heatmap(conf_matrix, cmap=\"Blues\", annot=True)"
   ]
  },
  {
   "cell_type": "code",
   "execution_count": 255,
   "id": "b2db1310-c856-46c0-beeb-4b8100d2cd7a",
   "metadata": {},
   "outputs": [
    {
     "data": {
      "text/plain": [
       "0.9819277108433735"
      ]
     },
     "execution_count": 255,
     "metadata": {},
     "output_type": "execute_result"
    }
   ],
   "source": [
    "accuracy = (conf_matrix[0, 0] + conf_matrix[1, 1]) / np.sum(conf_matrix)\n",
    "accuracy"
   ]
  },
  {
   "cell_type": "code",
   "execution_count": 256,
   "id": "afd6249b-7f91-4d87-96c0-7f9b44862d9b",
   "metadata": {},
   "outputs": [
    {
     "name": "stdout",
     "output_type": "stream",
     "text": [
      "Accuracy: 0.9819277108433735\n"
     ]
    }
   ],
   "source": [
    "x_var = ['usatPercentageClose', 'usatPercentageTied', 'satPercentageClose', 'satPercentageTied', 'gameWinningGoals']\n",
    "y_var = 'clutch_performance'\n",
    "\n",
    "train, test = train_test_split(df_players_merged, test_size=0.35)\n",
    "\n",
    "class_weights = compute_class_weight('balanced', classes=train[y_var].unique(), y=train[y_var])\n",
    "\n",
    "model = RandomForestClassifier(n_estimators = 100, class_weight = dict(zip(train[y_var].unique(), class_weights)))\n",
    "model.fit(train[x_var], train[y_var])\n",
    "\n",
    "accuracy = model.score(test[x_var], test[y_var])\n",
    "print(\"Accuracy:\", accuracy)\n"
   ]
  },
  {
   "cell_type": "code",
   "execution_count": 259,
   "id": "05dabcf2-b9d3-4599-aed1-33df0245d96a",
   "metadata": {},
   "outputs": [
    {
     "data": {
      "text/plain": [
       "{1: 3.25531914893617, 0: 0.5907335907335908}"
      ]
     },
     "execution_count": 259,
     "metadata": {},
     "output_type": "execute_result"
    }
   ],
   "source": [
    "dict(zip(train[y_var].unique(), class_weights))"
   ]
  },
  {
   "cell_type": "code",
   "execution_count": 257,
   "id": "391feaba-8ace-4421-8e44-a360a4d2f515",
   "metadata": {},
   "outputs": [
    {
     "data": {
      "text/plain": [
       "0.018072289156626505"
      ]
     },
     "execution_count": 257,
     "metadata": {},
     "output_type": "execute_result"
    }
   ],
   "source": [
    "mse = mean_squared_error(y_true, y_pred)\n",
    "\n",
    "mse"
   ]
  }
 ],
 "metadata": {
  "kernelspec": {
   "display_name": "Python 3 (ipykernel)",
   "language": "python",
   "name": "python3"
  },
  "language_info": {
   "codemirror_mode": {
    "name": "ipython",
    "version": 3
   },
   "file_extension": ".py",
   "mimetype": "text/x-python",
   "name": "python",
   "nbconvert_exporter": "python",
   "pygments_lexer": "ipython3",
   "version": "3.11.7"
  }
 },
 "nbformat": 4,
 "nbformat_minor": 5
}
